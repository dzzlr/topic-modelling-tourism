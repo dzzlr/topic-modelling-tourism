{
 "cells": [
  {
   "cell_type": "code",
   "execution_count": 1,
   "id": "be648315-f52c-48e3-9570-c3789b39cf46",
   "metadata": {},
   "outputs": [
    {
     "name": "stdout",
     "output_type": "stream",
     "text": [
      "Wed Jun 21 07:19:24 2023       \n",
      "+-----------------------------------------------------------------------------+\n",
      "| NVIDIA-SMI 516.94       Driver Version: 516.94       CUDA Version: 11.7     |\n",
      "|-------------------------------+----------------------+----------------------+\n",
      "| GPU  Name            TCC/WDDM | Bus-Id        Disp.A | Volatile Uncorr. ECC |\n",
      "| Fan  Temp  Perf  Pwr:Usage/Cap|         Memory-Usage | GPU-Util  Compute M. |\n",
      "|                               |                      |               MIG M. |\n",
      "|===============================+======================+======================|\n",
      "|   0  NVIDIA GeForce ... WDDM  | 00000000:01:00.0  On |                  N/A |\n",
      "| 45%   31C    P8    N/A /  75W |    691MiB /  4096MiB |      0%      Default |\n",
      "|                               |                      |                  N/A |\n",
      "+-------------------------------+----------------------+----------------------+\n",
      "                                                                               \n",
      "+-----------------------------------------------------------------------------+\n",
      "| Processes:                                                                  |\n",
      "|  GPU   GI   CI        PID   Type   Process name                  GPU Memory |\n",
      "|        ID   ID                                                   Usage      |\n",
      "|=============================================================================|\n",
      "|    0   N/A  N/A      4204    C+G   ...root\\Office16\\WINWORD.EXE    N/A      |\n",
      "|    0   N/A  N/A      5840    C+G   C:\\Windows\\explorer.exe         N/A      |\n",
      "|    0   N/A  N/A      6540    C+G   ...artMenuExperienceHost.exe    N/A      |\n",
      "|    0   N/A  N/A      6636    C+G   ...icrosoft VS Code\\Code.exe    N/A      |\n",
      "|    0   N/A  N/A      7324    C+G   ...5n1h2txyewy\\SearchApp.exe    N/A      |\n",
      "|    0   N/A  N/A      8424    C+G   ...2txyewy\\TextInputHost.exe    N/A      |\n",
      "|    0   N/A  N/A      9336    C+G   ...ge\\Application\\msedge.exe    N/A      |\n",
      "|    0   N/A  N/A      9372    C+G   ...e\\PhoneExperienceHost.exe    N/A      |\n",
      "|    0   N/A  N/A      9564    C+G   ...3d8bbwe\\CalculatorApp.exe    N/A      |\n",
      "|    0   N/A  N/A      9952    C+G   ...8wekyb3d8bbwe\\Cortana.exe    N/A      |\n",
      "|    0   N/A  N/A     10148    C+G   ...8wekyb3d8bbwe\\GameBar.exe    N/A      |\n",
      "+-----------------------------------------------------------------------------+\n"
     ]
    }
   ],
   "source": [
    "!nvidia-smi"
   ]
  },
  {
   "cell_type": "code",
   "execution_count": 2,
   "id": "54119b07-e214-4dc9-9e3c-2cf3c4e360b1",
   "metadata": {},
   "outputs": [],
   "source": [
    "# Import Libary\n",
    "import re\n",
    "import numpy as np\n",
    "import pandas as pd\n",
    "import matplotlib.pyplot as plt\n",
    "import seaborn as sns\n",
    "from tqdm.notebook import tqdm\n",
    "\n",
    "from matplotlib.ticker import MaxNLocator\n",
    "\n",
    "import nltk\n",
    "from nltk.corpus import stopwords \n",
    "from nltk.tokenize import word_tokenize\n",
    "from Sastrawi.StopWordRemover.StopWordRemoverFactory import StopWordRemoverFactory, StopWordRemover, ArrayDictionary\n",
    "from Sastrawi.Stemmer.StemmerFactory import StemmerFactory\n",
    "\n",
    "from wordcloud import WordCloud\n",
    "\n",
    "import gensim\n",
    "from gensim import models\n",
    "from gensim.models.ldamodel import LdaModel\n",
    "from gensim.models import Phrases, CoherenceModel\n",
    "import gensim.corpora as corpora\n",
    "\n",
    "from sklearn.manifold import TSNE\n",
    "from bokeh.plotting import figure, output_file, show\n",
    "from bokeh.models import Label\n",
    "from bokeh.io import output_notebook\n",
    "\n",
    "import pyLDAvis.gensim\n",
    "\n",
    "# nltk.download('punkt')\n",
    "# nltk.download('stopwords')\n",
    "# nltk.download('wordnet')\n",
    "# nltk.download('omw-1.4')"
   ]
  },
  {
   "cell_type": "markdown",
   "id": "d2004587-2b73-48ed-b9f3-933525d10c01",
   "metadata": {},
   "source": [
    "# Load Dataset"
   ]
  },
  {
   "cell_type": "code",
   "execution_count": 3,
   "id": "7b5c910a-28c3-4f08-a141-0ce7f8889b91",
   "metadata": {},
   "outputs": [],
   "source": [
    "# Load Dataset\n",
    "df = pd.read_csv(\"../dataset/dataset_preprocess_without_stopwords_stemming.csv\")\n",
    "# df = pd.read_csv(\"../dataset/dataset_preprocess.csv\")"
   ]
  },
  {
   "cell_type": "code",
   "execution_count": 4,
   "id": "c8e6ac49-737a-4d7e-ba83-9c83da10da67",
   "metadata": {},
   "outputs": [
    {
     "data": {
      "text/html": [
       "<div>\n",
       "<style scoped>\n",
       "    .dataframe tbody tr th:only-of-type {\n",
       "        vertical-align: middle;\n",
       "    }\n",
       "\n",
       "    .dataframe tbody tr th {\n",
       "        vertical-align: top;\n",
       "    }\n",
       "\n",
       "    .dataframe thead th {\n",
       "        text-align: right;\n",
       "    }\n",
       "</style>\n",
       "<table border=\"1\" class=\"dataframe\">\n",
       "  <thead>\n",
       "    <tr style=\"text-align: right;\">\n",
       "      <th></th>\n",
       "      <th>id</th>\n",
       "      <th>text_preprocess</th>\n",
       "      <th>tokens</th>\n",
       "      <th>len_char</th>\n",
       "      <th>len_word</th>\n",
       "      <th>len_token</th>\n",
       "    </tr>\n",
       "  </thead>\n",
       "  <tbody>\n",
       "    <tr>\n",
       "      <th>0</th>\n",
       "      <td>47d0cdd937754bd6b860f89b2bab1dbb</td>\n",
       "      <td>akses jalannya waktu itu masih sulit di jangka...</td>\n",
       "      <td>['akses', 'jalannya', 'waktu', 'itu', 'masih',...</td>\n",
       "      <td>84</td>\n",
       "      <td>13</td>\n",
       "      <td>12</td>\n",
       "    </tr>\n",
       "    <tr>\n",
       "      <th>1</th>\n",
       "      <td>4804acd6c05e4f89b098e2ca35019419</td>\n",
       "      <td>perjalanan yg bnr bikin syahduu dr tempat park...</td>\n",
       "      <td>['perjalanan', 'bnr', 'bikin', 'syahduu', 'tem...</td>\n",
       "      <td>110</td>\n",
       "      <td>19</td>\n",
       "      <td>15</td>\n",
       "    </tr>\n",
       "    <tr>\n",
       "      <th>2</th>\n",
       "      <td>61037dbdb7b14045be49d4494e95cf05</td>\n",
       "      <td>mei touring bari mudik mntap perjalanan sungg...</td>\n",
       "      <td>['mei', 'touring', 'bari', 'mudik', 'mntap', '...</td>\n",
       "      <td>162</td>\n",
       "      <td>25</td>\n",
       "      <td>20</td>\n",
       "    </tr>\n",
       "    <tr>\n",
       "      <th>3</th>\n",
       "      <td>a2c9e817e2b949c6880f971f43a11d2f</td>\n",
       "      <td>perjalanan touring motor dari bekasi melewati ...</td>\n",
       "      <td>['perjalanan', 'touring', 'motor', 'dari', 'be...</td>\n",
       "      <td>152</td>\n",
       "      <td>23</td>\n",
       "      <td>22</td>\n",
       "    </tr>\n",
       "    <tr>\n",
       "      <th>4</th>\n",
       "      <td>772bd029c2ce450b94b6fc6f524fbc05</td>\n",
       "      <td>nyampe lnjut kebawah jam mantap suasana safar</td>\n",
       "      <td>['nyampe', 'lnjut', 'kebawah', 'jam', 'mantap'...</td>\n",
       "      <td>46</td>\n",
       "      <td>8</td>\n",
       "      <td>7</td>\n",
       "    </tr>\n",
       "  </tbody>\n",
       "</table>\n",
       "</div>"
      ],
      "text/plain": [
       "                                 id  \\\n",
       "0  47d0cdd937754bd6b860f89b2bab1dbb   \n",
       "1  4804acd6c05e4f89b098e2ca35019419   \n",
       "2  61037dbdb7b14045be49d4494e95cf05   \n",
       "3  a2c9e817e2b949c6880f971f43a11d2f   \n",
       "4  772bd029c2ce450b94b6fc6f524fbc05   \n",
       "\n",
       "                                     text_preprocess  \\\n",
       "0  akses jalannya waktu itu masih sulit di jangka...   \n",
       "1  perjalanan yg bnr bikin syahduu dr tempat park...   \n",
       "2   mei touring bari mudik mntap perjalanan sungg...   \n",
       "3  perjalanan touring motor dari bekasi melewati ...   \n",
       "4     nyampe lnjut kebawah jam mantap suasana safar    \n",
       "\n",
       "                                              tokens  len_char  len_word  \\\n",
       "0  ['akses', 'jalannya', 'waktu', 'itu', 'masih',...        84        13   \n",
       "1  ['perjalanan', 'bnr', 'bikin', 'syahduu', 'tem...       110        19   \n",
       "2  ['mei', 'touring', 'bari', 'mudik', 'mntap', '...       162        25   \n",
       "3  ['perjalanan', 'touring', 'motor', 'dari', 'be...       152        23   \n",
       "4  ['nyampe', 'lnjut', 'kebawah', 'jam', 'mantap'...        46         8   \n",
       "\n",
       "   len_token  \n",
       "0         12  \n",
       "1         15  \n",
       "2         20  \n",
       "3         22  \n",
       "4          7  "
      ]
     },
     "execution_count": 4,
     "metadata": {},
     "output_type": "execute_result"
    }
   ],
   "source": [
    "# Show first 5 rows\n",
    "df.head()"
   ]
  },
  {
   "cell_type": "code",
   "execution_count": 5,
   "id": "12afe7ae-a140-4640-ab6e-d7fac3bbcc7b",
   "metadata": {},
   "outputs": [],
   "source": [
    "df['tokens'] = df['tokens'].apply(lambda x: eval(x))"
   ]
  },
  {
   "cell_type": "markdown",
   "id": "b2166d6a-522d-463a-a602-4ec168cc95d3",
   "metadata": {},
   "source": [
    "# Preprocessing"
   ]
  },
  {
   "cell_type": "markdown",
   "id": "e4f4050d-9e8b-4762-b25c-2977f81a15a7",
   "metadata": {},
   "source": [
    "## Stopwords"
   ]
  },
  {
   "cell_type": "code",
   "execution_count": 6,
   "id": "e8c47534-fdc9-4542-a592-8abc19dc1e3e",
   "metadata": {},
   "outputs": [
    {
     "data": {
      "text/plain": [
       "' Stopword by Sastrawi '"
      ]
     },
     "execution_count": 6,
     "metadata": {},
     "output_type": "execute_result"
    }
   ],
   "source": [
    "''' Stopword by Sastrawi '''\n",
    "\n",
    "# stop_words = StopWordRemoverFactory().get_stop_words()\n",
    "# extend_stopword = [\n",
    "#     'pas', 'yg', 'tp', 'rb', 'km', 'tp', 'dg', 'dr',\n",
    "#     'bagu','bagus','bagusnya',\n",
    "#     'banyaknya','banyakny','banyak',\n",
    "#     'jlan','jalan',\n",
    "#     'masuk','tempat',\n",
    "#     'atas','sana','karna','sama','saya','sudah','udah','mungkin', 'tuji','jadi','saja','sini','kalo','kalau',\n",
    "#     'untuk','semua','buat','bisa','cuma','sangat','buat','unutk','paling','cukup','naik','ribu','sekali',\n",
    "#     'benar','kesini','turun','sera','sayangny','anjur','mending','dapat', 'punya','mana','sekitar',\n",
    "#     'dapet','coba','bukan','sebut','sampe','tuju','hingga','beberapa','banget',\n",
    "#     'utk','gak','adl','dll','coba','klo','nya','pas','per','bnr','udh','lua','aja','bgt','lalu','krn','mau',\n",
    "# ]\n",
    "\n",
    "# stop_words += extend_stopword"
   ]
  },
  {
   "cell_type": "code",
   "execution_count": 7,
   "id": "007720e7-8a57-4db6-8a23-5ad13e07fa75",
   "metadata": {},
   "outputs": [],
   "source": [
    "''' Stopword by NLTK '''\n",
    "\n",
    "stop_words = stopwords.words('indonesian')\n",
    "# stop_words = sorted(list(set(stopwords.words('indonesian')) - set(['jauh'])))\n",
    "stop_words = sorted(list(set(stopwords.words('indonesian')) - set(['baik', 'dekat', 'jauh', 'kurang', 'tidak'])))\n",
    "stop_words.extend([\n",
    "    'terima', 'kasih',\n",
    "    'ala', 'pas', 'yg', 'tp', 'rb', 'km', 'tp', 'dg', 'dr', 'nya', 'pada', 'jgn', 'lupa',\n",
    "    'ada', 'akang', 'ato', 'atw', 'ayo', 'dar', 'sih', 'loh', 'yaa', 'yah',\n",
    "    'orchid', 'forest', 'tangkuban', 'floating', 'market', 'bandung', 'grafika', 'cikole', \n",
    "    'parahu', 'jawa', 'kabupaten', 'barat', 'cic', 'lembang', 'dayang', 'sumbi',\n",
    "    # 'bagu','bagus','bagusnya',\n",
    "    # 'banyaknya','banyakny','banyak',\n",
    "    # 'jlan','jalan',\n",
    "    # 'masuk','tempat',\n",
    "    'atas','ats', 'sana','karna','sama','saya', 'salah', 'sudah','udah','mungkin', 'tuji','jadi','saja','sini','kalo','kalau',\n",
    "    'untuk','semua','buat','bisa','cuma','sangat','buat','unutk','paling','cukup','naik','ribu','sekali',\n",
    "    'benar','bener','kesini','turun','sera','sayangny','anjur','mending','dapat', 'punya','mana','sekitar',\n",
    "    'dapet','coba','bukan','sebut','sampe','tuju','hingga','beberapa','banget',\n",
    "    'utk','gak','adl','dll','coba','klo','nya','pas','per','bnr','udh','lua','aja','bgt','lalu','krn','mau',\n",
    "])"
   ]
  },
  {
   "cell_type": "code",
   "execution_count": 8,
   "id": "d2f3df32-d3d3-4ba5-acae-40a9592239c0",
   "metadata": {},
   "outputs": [
    {
     "data": {
      "text/plain": [
       "860"
      ]
     },
     "execution_count": 8,
     "metadata": {},
     "output_type": "execute_result"
    }
   ],
   "source": [
    "len(stop_words)"
   ]
  },
  {
   "cell_type": "code",
   "execution_count": 9,
   "id": "4bf1513c-dbe2-444d-94b4-3035eb5d5a30",
   "metadata": {},
   "outputs": [],
   "source": [
    "df['tokens'] = df['tokens'].apply(lambda x: [w for w in x if not w in stop_words])"
   ]
  },
  {
   "cell_type": "code",
   "execution_count": 10,
   "id": "2312572b-4305-49f8-8dff-5df0f46c1112",
   "metadata": {},
   "outputs": [],
   "source": [
    "# prev = df.loc[df['id'] == '82a4d407f287440d81e804e96c044a18', 'tokens'].values\n",
    "# prev"
   ]
  },
  {
   "cell_type": "markdown",
   "id": "2c563ae6-6ef5-4742-bbdf-e0cf4c964809",
   "metadata": {},
   "source": [
    "## Stemming"
   ]
  },
  {
   "cell_type": "code",
   "execution_count": 11,
   "id": "c1c26341-8fee-49a1-be14-e573fc73a90d",
   "metadata": {},
   "outputs": [],
   "source": [
    "factory = StemmerFactory()\n",
    "stemmer = factory.create_stemmer()"
   ]
  },
  {
   "cell_type": "code",
   "execution_count": 12,
   "id": "8f6662a1-ee31-4c31-a3f6-4fc1bed0c6bc",
   "metadata": {},
   "outputs": [],
   "source": [
    "df['tokens'] = df['tokens'].apply(lambda x: stemmer.stem(' '.join(x)).split(' '))"
   ]
  },
  {
   "cell_type": "markdown",
   "id": "3fba7d84-f07b-4650-b984-52f9edf4046f",
   "metadata": {},
   "source": [
    "# Data Transformation"
   ]
  },
  {
   "cell_type": "code",
   "execution_count": 13,
   "id": "07c79830-6107-4733-b02e-878ae5b1961a",
   "metadata": {},
   "outputs": [],
   "source": [
    "# df['tokens'] = df['tokens'].apply(lambda x: ' '.join(x))"
   ]
  },
  {
   "cell_type": "code",
   "execution_count": 14,
   "id": "51ce3c2a-5412-46c7-be14-43cd0a481dfa",
   "metadata": {},
   "outputs": [],
   "source": [
    "texts = df['tokens']\n",
    "texts = texts.reset_index(drop=True)"
   ]
  },
  {
   "cell_type": "code",
   "execution_count": 15,
   "id": "7e169d9d-9e9e-401d-af17-8ee2c2314500",
   "metadata": {},
   "outputs": [],
   "source": [
    "# texts = list(texts)"
   ]
  },
  {
   "cell_type": "code",
   "execution_count": 16,
   "id": "1d19153d-39fa-488e-9dcd-73df821b3ee3",
   "metadata": {},
   "outputs": [],
   "source": [
    "# for id_text in range(len(texts)):\n",
    "#     for id_word in range(len(texts[id_text])-1):\n",
    "#         first_id, second_id = id_word, first_id + 1\n",
    "        \n",
    "#         for i in range(len(texts)):\n",
    "#             word_i = texts[i].index(texts[id_text][first_id]) \n",
    "#             if texts[i][word_i+1] == texts[id_text][second_id] \n",
    "                "
   ]
  },
  {
   "cell_type": "markdown",
   "id": "9a053c45-04ab-44a4-82f2-de0936434f8c",
   "metadata": {},
   "source": [
    "## Bigram & Trigram Models"
   ]
  },
  {
   "cell_type": "code",
   "execution_count": 17,
   "id": "9e12c11e-a097-49e3-a399-531cc02595fd",
   "metadata": {},
   "outputs": [],
   "source": [
    "# (15, 20)\n",
    "# (13, 17)\n",
    "# (10, 25)\n",
    "# (10, 20)\n",
    "bigram = Phrases(texts, min_count=10, threshold=25)\n",
    "# trigram = Phrases(bigram[texts])\n",
    "\n",
    "for idx in range(len(texts)):\n",
    "    for token in bigram[texts[idx]]:\n",
    "        if '_' in token:\n",
    "            texts[idx].append(token)\n",
    "    # for token in trigram[texts[idx]]:\n",
    "    #     if '_' in token:\n",
    "    #         texts[idx].append(token)"
   ]
  },
  {
   "cell_type": "code",
   "execution_count": 18,
   "id": "9c618fd9-ba15-4b84-a1b1-d0d07bbf5a99",
   "metadata": {},
   "outputs": [],
   "source": [
    "texts_new = []\n",
    "for id_text in range(len(texts)):\n",
    "    text = []\n",
    "    for id_each_word in range(len(texts[id_text])):\n",
    "        if '_' in texts[id_text][id_each_word]:\n",
    "            text.append(texts[id_text][id_each_word])\n",
    "    text = list(set(text))\n",
    "    if len(text) != 0:\n",
    "        texts_new.append(text)"
   ]
  },
  {
   "cell_type": "code",
   "execution_count": 19,
   "id": "8ed8eaac-b9bc-4473-991a-3dd9aff76b85",
   "metadata": {},
   "outputs": [],
   "source": [
    "texts = texts_new"
   ]
  },
  {
   "cell_type": "code",
   "execution_count": 20,
   "id": "2f971013-77c8-433e-ae83-10456551f0f4",
   "metadata": {},
   "outputs": [],
   "source": [
    "# len(texts)"
   ]
  },
  {
   "cell_type": "code",
   "execution_count": 21,
   "id": "5012f5fa-a246-4d78-8dbb-0909003d0a70",
   "metadata": {},
   "outputs": [],
   "source": [
    "# all_words = [' '.join(text) for text in texts]\n",
    "# all_words = ' '.join(all_words)\n",
    "# all_words = sorted(list(set(all_words.split())))"
   ]
  },
  {
   "cell_type": "code",
   "execution_count": 22,
   "id": "32b43ec8-876a-4828-beff-cd04a25df54b",
   "metadata": {},
   "outputs": [],
   "source": [
    "# with open(\"../dataset/unigram_list.txt\", \"w\", encoding=\"utf-8\") as output:\n",
    "#     output.write(str(all_words))"
   ]
  },
  {
   "cell_type": "code",
   "execution_count": 23,
   "id": "4a3685a6-41c1-4233-81ad-944b6289b435",
   "metadata": {},
   "outputs": [],
   "source": [
    "# all_words[-20:-10]"
   ]
  },
  {
   "cell_type": "markdown",
   "id": "302f6004-c4a5-4e24-ad47-09756bfb4a6c",
   "metadata": {},
   "source": [
    "## Create corpus"
   ]
  },
  {
   "cell_type": "code",
   "execution_count": 24,
   "id": "a230140e-2235-4da4-a64d-6dcee10166a5",
   "metadata": {},
   "outputs": [],
   "source": [
    "# Initiate Corpus\n",
    "id2word = corpora.Dictionary(texts)\n",
    "# id2word.filter_extremes(no_below=5, no_above=0.2)\n",
    "\n",
    "# texts = df['tokens']\n",
    "# corpus = [id2word.doc2bow(text) for text in texts]"
   ]
  },
  {
   "cell_type": "code",
   "execution_count": 25,
   "id": "99d6c489-483e-4cb2-9bc0-38cd5554868a",
   "metadata": {},
   "outputs": [],
   "source": [
    "# BoW Corpus\n",
    "corpus = [id2word.doc2bow(text) for text in texts]"
   ]
  },
  {
   "cell_type": "code",
   "execution_count": 26,
   "id": "79c4488e-e9cd-419e-95a1-3038120b74cb",
   "metadata": {},
   "outputs": [],
   "source": [
    "# id2word = corpora.Dictionary(df['tokens'])\n",
    "# texts = df['tokens']\n",
    "# corpus = [id2word.doc2bow(text) for text in texts]"
   ]
  },
  {
   "cell_type": "code",
   "execution_count": 27,
   "id": "5fddae91-51d8-4ec3-b1a7-4795f36141c8",
   "metadata": {},
   "outputs": [],
   "source": [
    "# TF-IDF Corpus\n",
    "tfidf = models.TfidfModel(corpus)\n",
    "corpus_tfidf = tfidf[corpus]"
   ]
  },
  {
   "cell_type": "code",
   "execution_count": null,
   "id": "a0e3a7df-9d75-4722-9f3a-e54fbacdcb3e",
   "metadata": {},
   "outputs": [],
   "source": []
  },
  {
   "cell_type": "markdown",
   "id": "5b52d5ab-3a8e-4730-9714-ebecd2b9b49c",
   "metadata": {},
   "source": [
    "# Apply Model"
   ]
  },
  {
   "cell_type": "code",
   "execution_count": 28,
   "id": "93e8edeb-b459-4d3f-a96d-88022d518d1b",
   "metadata": {},
   "outputs": [],
   "source": [
    "# alpha = [0.05,0.1,0.5,1,5,10]\n",
    "# beta = [0.05,0.1,0.5,1,5,10]"
   ]
  },
  {
   "cell_type": "code",
   "execution_count": 29,
   "id": "075d85db-5f4f-4731-8853-cc8cba32741d",
   "metadata": {},
   "outputs": [],
   "source": [
    "def compute_coherence_values(id2word, corpus, texts, start, limit, step):\n",
    "    coherence_values = []\n",
    "    model_list = []\n",
    "    for num_topics in tqdm(range(start, limit, step)):\n",
    "        model = LdaModel( #LdaModel gensim.models.LdaMulticore\n",
    "                    corpus=corpus, id2word=id2word, num_topics=num_topics, random_state=42, iterations=100,\n",
    "                    # alpha=0.075, eta=0.55,\n",
    "                    # chunksize=2000, passes=1, update_every=1, alpha='symmetric', eta=None, \n",
    "                    # decay=0.5, offset=1.0, eval_every=10, gamma_threshold=0.001\n",
    "                    )\n",
    "        \n",
    "        model_list.append(model)\n",
    "        coherence_model = CoherenceModel(\n",
    "                            model=model, texts=texts, dictionary=id2word, coherence='c_v')\n",
    "        coherence_values.append(coherence_model.get_coherence())\n",
    "        \n",
    "    return model_list, coherence_values"
   ]
  },
  {
   "cell_type": "code",
   "execution_count": 30,
   "id": "50dfc644-1060-4583-874c-8e5f5001289c",
   "metadata": {},
   "outputs": [
    {
     "data": {
      "application/vnd.jupyter.widget-view+json": {
       "model_id": "40045c9b8a414b8595dc274be3562c08",
       "version_major": 2,
       "version_minor": 0
      },
      "text/plain": [
       "  0%|          | 0/14 [00:00<?, ?it/s]"
      ]
     },
     "metadata": {},
     "output_type": "display_data"
    }
   ],
   "source": [
    "START = 2\n",
    "LIMIT = 16\n",
    "STEP = 1\n",
    "\n",
    "model_list, coherence_values = compute_coherence_values(\n",
    "    id2word=id2word, corpus=corpus_tfidf, texts=texts, start=START, limit=LIMIT, step=STEP)"
   ]
  },
  {
   "cell_type": "markdown",
   "id": "9232458d-2469-4db0-8bd9-78aad211f160",
   "metadata": {},
   "source": [
    "# Evaluate"
   ]
  },
  {
   "cell_type": "markdown",
   "id": "0d25595d-6ea0-4f18-803b-fc3b113566b2",
   "metadata": {},
   "source": [
    "## Coherence Score Result"
   ]
  },
  {
   "cell_type": "code",
   "execution_count": 31,
   "id": "189f4608-8fd8-422c-8397-670c46561ec1",
   "metadata": {},
   "outputs": [
    {
     "data": {
      "image/png": "[encoded data removed]",
      "text/plain": [
       "<Figure size 640x480 with 1 Axes>"
      ]
     },
     "metadata": {},
     "output_type": "display_data"
    }
   ],
   "source": [
    "x = range(START, LIMIT, STEP)\n",
    "plt.plot(x, coherence_values)\n",
    "plt.title('Coherence Score Berdasarkan Jumlah Topik')\n",
    "plt.xlabel('Num Topics')\n",
    "plt.ylabel('Coherence Score')\n",
    "plt.xticks(range(min(x), max(x)+1))\n",
    "# plt.ylim(0, 1)\n",
    "# plt.xlim(0, LIMIT-1)\n",
    "# plt.xticks(coherence_values, x)\n",
    "plt.legend(('coherence_values'), loc='best')\n",
    "plt.show()"
   ]
  },
  {
   "cell_type": "code",
   "execution_count": 32,
   "id": "a31c47c0-1eff-436b-8676-d03c1522e7ae",
   "metadata": {},
   "outputs": [
    {
     "name": "stdout",
     "output_type": "stream",
     "text": [
      "2, 0.574\n",
      "3, 0.606\n",
      "4, 0.635\n",
      "5, 0.641\n",
      "6, 0.647\n",
      "7, 0.654\n",
      "8, 0.662\n",
      "9, 0.653\n",
      "10, 0.657\n",
      "11, 0.644\n",
      "12, 0.650\n",
      "13, 0.648\n",
      "14, 0.641\n",
      "15, 0.652\n"
     ]
    }
   ],
   "source": [
    "# Print the coherence scores\n",
    "for m, cv in zip(x, coherence_values):\n",
    "    # print(f'{cv:.3f}')\n",
    "    print(f'{m}, {cv:.3f}')\n",
    "    # print(f'Num topics = {m}, has Coherence Score of {cv:.3f}')"
   ]
  },
  {
   "cell_type": "markdown",
   "id": "21f4bc31-2bf1-4c4c-bf42-96c6d53387b6",
   "metadata": {},
   "source": [
    "# Result"
   ]
  },
  {
   "cell_type": "markdown",
   "id": "933e3522-8cbd-4558-a354-66bbf57407f1",
   "metadata": {},
   "source": [
    "## Preview Sample Model"
   ]
  },
  {
   "cell_type": "code",
   "execution_count": 33,
   "id": "b6924b77-7cb9-4dfc-80d7-7332f50a8941",
   "metadata": {},
   "outputs": [],
   "source": [
    "model = model_list[6]"
   ]
  },
  {
   "cell_type": "code",
   "execution_count": 34,
   "id": "01b03eb2-c8f6-41e1-a9e6-b6b969aa1a09",
   "metadata": {},
   "outputs": [],
   "source": [
    "x = model.show_topics(num_topics=8, num_words=10, formatted=False)\n",
    "# coherence_ldas = model.get_coherence_per_topic()\n",
    "topics_words = [(tp[0], [wd[0] for wd in tp[1]]) for tp in x]"
   ]
  },
  {
   "cell_type": "code",
   "execution_count": 35,
   "id": "4a53a2ed-5491-4c33-9811-357ecf21b880",
   "metadata": {},
   "outputs": [],
   "source": [
    "# # Below Code Prints Topics and Words\n",
    "# for each_topic_coherence_score in enumerate(coherence_ldas):\n",
    "#     print(f'Topic {each_topic_coherence_score[0]}: {each_topic_coherence_score[1]:.5f}')"
   ]
  },
  {
   "cell_type": "code",
   "execution_count": 36,
   "id": "f40a34f9-a716-4600-9250-795724064277",
   "metadata": {},
   "outputs": [
    {
     "name": "stdout",
     "output_type": "stream",
     "text": [
      "['udara_sejuk', 'buang_sampah', 'jagung_bakar', 'bau_belerang', 'nice_place', 'wajib_kunjung', 'long_weekend', 'nge_camp', 'pegawai_ramah', 'kendara_roda']\n",
      "['udara_segar', 'lepas_penat', 'mudah_jangkau', 'jembatan_gantung', 'kurang_awat', 'suguh_pandang', 'udara_sejuk', 'happy_holiday', 'mini_zoo', 'over_all']\n",
      "['api_unggun', 'paint_ball', 'flying_fox', 'teman_teman', 'the_best', 'olah_raga', 'baju_hangat', 'kursi_roda', 'siap_fisik', 'cuci_mata']\n",
      "['musim_hujan', 'panjat_tebing', 'murah_riah', 'angin_kencang', 'pakai_sepatu', 'uji_adrenalin', 'nasi_liwet', 'good_place', 'alangkah_baik', 'cuci_tangan']\n",
      "['air_terjun', 'layan_ramah', 'pintu_masuk', 'arena_main', 'tugas_ramah', 'tata_rapi', 'pacu_adrenalin', 'food_court', 'betah_lama', 'moga_depan']\n",
      "['flying_fox', 'family_gathering', 'rekreasi_keluarga', 'bareng_keluarga', 'camping_ground', 'hiruk_pikuk', 'pasar_apung', 'lokasi_strategis', 'taman_kelinci', 'lepas_lelah']\n",
      "['hutan_pinus', 'pohon_pinus', 'kamar_mandi', 'fasilitas_lengkap', 'acara_gathering', 'orang_tua', 'destinasi_wisata', 'toilet_mushola', 'objek_wisata', 'kebun_teh']\n",
      "['hati_hati', 'tukar_minum', 'next_time', 'kena_biaya', 'air_mineral', 'hutan_pinus', 'live_music', 'live_musik', 'welcome_drink', 'jalan_setapak']\n"
     ]
    }
   ],
   "source": [
    "# Below Code Prints Topics and Words\n",
    "for topic, words in topics_words:\n",
    "    print(f'{words}')\n",
    "    # print(f'Topic {topic}: {words}')"
   ]
  },
  {
   "cell_type": "code",
   "execution_count": 37,
   "id": "c9c244ad-9176-49eb-a9c5-f992689d0bc8",
   "metadata": {},
   "outputs": [
    {
     "name": "stdout",
     "output_type": "stream",
     "text": [
      "0.437*\"udara_sejuk\" + 0.059*\"buang_sampah\" + 0.055*\"jagung_bakar\" + 0.051*\"bau_belerang\" + 0.050*\"nice_place\" + 0.026*\"wajib_kunjung\" + 0.023*\"long_weekend\" + 0.017*\"nge_camp\" + 0.016*\"pegawai_ramah\" + 0.015*\"kendara_roda\"\n",
      "0.237*\"udara_segar\" + 0.102*\"lepas_penat\" + 0.075*\"mudah_jangkau\" + 0.067*\"jembatan_gantung\" + 0.047*\"kurang_awat\" + 0.041*\"suguh_pandang\" + 0.037*\"udara_sejuk\" + 0.030*\"happy_holiday\" + 0.025*\"mini_zoo\" + 0.025*\"over_all\"\n",
      "0.216*\"api_unggun\" + 0.129*\"paint_ball\" + 0.081*\"flying_fox\" + 0.051*\"teman_teman\" + 0.048*\"the_best\" + 0.038*\"olah_raga\" + 0.023*\"baju_hangat\" + 0.022*\"kursi_roda\" + 0.020*\"siap_fisik\" + 0.019*\"cuci_mata\"\n",
      "0.106*\"musim_hujan\" + 0.062*\"panjat_tebing\" + 0.052*\"murah_riah\" + 0.050*\"angin_kencang\" + 0.046*\"pakai_sepatu\" + 0.046*\"uji_adrenalin\" + 0.041*\"nasi_liwet\" + 0.041*\"good_place\" + 0.030*\"alangkah_baik\" + 0.030*\"cuci_tangan\"\n",
      "0.143*\"air_terjun\" + 0.090*\"layan_ramah\" + 0.079*\"pintu_masuk\" + 0.076*\"arena_main\" + 0.068*\"tugas_ramah\" + 0.055*\"tata_rapi\" + 0.046*\"pacu_adrenalin\" + 0.043*\"food_court\" + 0.029*\"betah_lama\" + 0.021*\"moga_depan\"\n",
      "0.333*\"flying_fox\" + 0.099*\"family_gathering\" + 0.059*\"rekreasi_keluarga\" + 0.058*\"bareng_keluarga\" + 0.047*\"camping_ground\" + 0.027*\"hiruk_pikuk\" + 0.022*\"pasar_apung\" + 0.021*\"lokasi_strategis\" + 0.019*\"taman_kelinci\" + 0.018*\"lepas_lelah\"\n",
      "0.264*\"hutan_pinus\" + 0.126*\"pohon_pinus\" + 0.106*\"kamar_mandi\" + 0.100*\"fasilitas_lengkap\" + 0.046*\"acara_gathering\" + 0.028*\"orang_tua\" + 0.027*\"destinasi_wisata\" + 0.023*\"toilet_mushola\" + 0.021*\"objek_wisata\" + 0.020*\"kebun_teh\"\n",
      "0.138*\"hati_hati\" + 0.072*\"tukar_minum\" + 0.072*\"next_time\" + 0.064*\"kena_biaya\" + 0.051*\"air_mineral\" + 0.048*\"hutan_pinus\" + 0.035*\"live_music\" + 0.033*\"live_musik\" + 0.028*\"welcome_drink\" + 0.025*\"jalan_setapak\"\n"
     ]
    }
   ],
   "source": [
    "# Below Code Prints Topics and Words with probability\n",
    "for idx, topic in model.print_topics(-1):\n",
    "    print(f'{topic}')\n",
    "    # print(f'Topic: {idx}, Word: {topic}')"
   ]
  },
  {
   "cell_type": "code",
   "execution_count": null,
   "id": "e8126286-8103-480e-8f91-ff482cc14694",
   "metadata": {},
   "outputs": [],
   "source": [
    "pyLDAvis.enable_notebook()\n",
    "vis = pyLDAvis.gensim.prepare(model, corpus, dictionary=model.id2word)\n",
    "vis"
   ]
  },
  {
   "cell_type": "code",
   "execution_count": null,
   "id": "bd841586-ebdc-4ea7-b344-858fcf40e82e",
   "metadata": {},
   "outputs": [],
   "source": [
    "all_words = [' '.join(text) for text in texts]\n",
    "long_string = ' '.join(all_words)\n",
    "wordcloud = WordCloud(background_color=\"white\", max_words=500, contour_width=3, max_font_size=120,\n",
    "                      contour_color='steelblue', width=1000, height=600)\n",
    "wordcloud.generate(long_string)\n",
    "\n",
    "wordcloud.to_image()"
   ]
  },
  {
   "cell_type": "markdown",
   "id": "f6757eb2-021a-4929-ab66-658db08dcc71",
   "metadata": {},
   "source": [
    "# Tuning Model"
   ]
  },
  {
   "cell_type": "code",
   "execution_count": null,
   "id": "efb5d4b7-263d-4159-9c99-78aeab437f02",
   "metadata": {},
   "outputs": [],
   "source": [
    "def compute_coherence_values(id2word, corpus, texts, num_topics, alpha, eta):\n",
    "    coherence_values = []\n",
    "    model_list = []\n",
    "    for alpha_param in tqdm(alpha):\n",
    "        for eta_param in tqdm(eta):\n",
    "            model = LdaModel( #LdaModel gensim.models.LdaMulticore\n",
    "                        corpus=corpus, id2word=id2word, num_topics=num_topics, random_state=42, iterations=100,\n",
    "                        alpha=alpha_param, eta=eta_param\n",
    "                        # chunksize=2000, passes=1, update_every=1, alpha='symmetric', eta=None, \n",
    "                        # decay=0.5, offset=1.0, eval_every=10, gamma_threshold=0.001\n",
    "                        )\n",
    "\n",
    "            model_list.append(model)\n",
    "            coherence_model = CoherenceModel(\n",
    "                                model=model, texts=texts, dictionary=id2word, coherence='c_v')\n",
    "            coherence_values.append([alpha_param, eta_param, coherence_model.get_coherence()])\n",
    "        \n",
    "    return model_list, coherence_values"
   ]
  },
  {
   "cell_type": "code",
   "execution_count": null,
   "id": "a7e71e56-fe34-48cf-94f5-b61293deb220",
   "metadata": {},
   "outputs": [],
   "source": [
    "START = 8\n",
    "LIMIT = 9\n",
    "STEP = 1\n",
    "\n",
    "# alpha = [0.05,0.085,0.2]\n",
    "# eta = [0.05,0.085,0.2]\n",
    "alpha = [0.05,0.1,0.5]\n",
    "beta = [0.05,0.1,0.5]\n",
    "num_topics = 8\n",
    "\n",
    "model_list, coherence_values = compute_coherence_values(\n",
    "    id2word=id2word, corpus=corpus_tfidf, texts=texts, num_topics=num_topics, alpha=alpha, eta=eta)"
   ]
  },
  {
   "cell_type": "code",
   "execution_count": null,
   "id": "84eb4b90-96c0-403d-94c6-e013cfc15ec2",
   "metadata": {},
   "outputs": [],
   "source": [
    "x = range(START, LIMIT, STEP)"
   ]
  },
  {
   "cell_type": "code",
   "execution_count": null,
   "id": "dbe39a5e-397a-48b4-a657-b0372229f014",
   "metadata": {},
   "outputs": [],
   "source": [
    "np.array(coherence_values)[0:, 2]"
   ]
  },
  {
   "cell_type": "code",
   "execution_count": null,
   "id": "071ed4ef-3d07-4f93-91c3-8a388e0608ee",
   "metadata": {},
   "outputs": [],
   "source": [
    "# Print the coherence scores\n",
    "for cv in np.array(coherence_values)[0:, 2]:\n",
    "    print(f'{cv:.3f}')\n",
    "    # print(f'{m}, {cv:.3f}')\n",
    "    # print(f'Num topics = {m}, has Coherence Score of {cv:.3f}')"
   ]
  },
  {
   "cell_type": "code",
   "execution_count": null,
   "id": "424a69c4-e98e-4cee-ae71-70d4e8d2821e",
   "metadata": {},
   "outputs": [],
   "source": [
    "x = range(START, LIMIT, STEP)\n",
    "plt.plot(x, coherence_values)\n",
    "plt.title('Coherence Score Berdasarkan Jumlah Topik')\n",
    "plt.xlabel('Num Topics')\n",
    "plt.ylabel('Coherence Score')\n",
    "plt.xticks(range(min(x), max(x)+1))\n",
    "# plt.ylim(0, 1)\n",
    "# plt.xlim(0, LIMIT-1)\n",
    "# plt.xticks(coherence_values, x)\n",
    "plt.legend(('coherence_values'), loc='best')\n",
    "plt.show()"
   ]
  },
  {
   "cell_type": "code",
   "execution_count": null,
   "id": "c8aa4615-28fe-4a9b-b855-1323ad7cb3e4",
   "metadata": {},
   "outputs": [],
   "source": [
    "# import matplotlib.colors as mcolors\n",
    "\n",
    "# # Get topic weights\n",
    "# # topic_weights = []\n",
    "# # for i, row_list in enumerate(model[corpus]):\n",
    "# #     topic_weights.append([w for i, w in row_list[0]])\n",
    "# topic_weights = np.zeros((len(corpus), 5))\n",
    "# for i, vektor_topik_dokumen in enumerate(model[corpus]):\n",
    "#     for topik, probabilitas in vektor_topik_dokumen:\n",
    "#         topic_weights[i, topik] = probabilitas\n",
    "\n",
    "# # Array of topic weights    \n",
    "# arr = pd.DataFrame(topic_weights).fillna(0).values\n",
    "\n",
    "# # Keep the well separated points (optional)\n",
    "# arr = arr[np.amax(arr, axis=1) > 0.35]\n",
    "\n",
    "# # Dominant topic number in each doc\n",
    "# topic_num = np.argmax(arr, axis=1)\n",
    "\n",
    "# # tSNE Dimension Reduction\n",
    "# tsne_model = TSNE(n_components=2, verbose=1, random_state=0, angle=.99, init='pca')\n",
    "# tsne_lda = tsne_model.fit_transform(arr)\n",
    "\n",
    "# # Plot the Topic Clusters using Bokeh\n",
    "# output_notebook()\n",
    "# n_topics = 5\n",
    "# mycolors = np.array([color for name, color in mcolors.TABLEAU_COLORS.items()])\n",
    "# plot = figure(title=\"t-SNE Clustering of {} LDA Topics\".format(n_topics), \n",
    "#               plot_width=900, plot_height=700)\n",
    "# plot.scatter(x=tsne_lda[:,0], y=tsne_lda[:,1], color=mycolors[topic_num])\n",
    "# show(plot)"
   ]
  },
  {
   "cell_type": "code",
   "execution_count": null,
   "id": "cea2605f-71db-4198-b68c-96da4f03869f",
   "metadata": {},
   "outputs": [],
   "source": []
  },
  {
   "cell_type": "markdown",
   "id": "6aa4e959-88e5-48d6-b727-ffe41192ddc6",
   "metadata": {},
   "source": [
    "# Export Model"
   ]
  },
  {
   "cell_type": "code",
   "execution_count": 38,
   "id": "c4b50bb4-bf87-4644-bd91-6ee6c7efb5c9",
   "metadata": {},
   "outputs": [],
   "source": [
    "model.save('../model/model_bigram_tfidf.lda')"
   ]
  },
  {
   "cell_type": "markdown",
   "id": "21a34339-536a-45f1-a4b6-1c64226394fd",
   "metadata": {},
   "source": [
    "# Load Model"
   ]
  },
  {
   "cell_type": "code",
   "execution_count": 39,
   "id": "b6cc0848-3dca-474d-b2f7-051ad5abf78b",
   "metadata": {},
   "outputs": [],
   "source": [
    "model = LdaModel.load('../model/model_bigram_tfidf.lda')"
   ]
  },
  {
   "cell_type": "code",
   "execution_count": 40,
   "id": "ac72a8c4-1a18-405a-88bd-69f444265549",
   "metadata": {},
   "outputs": [
    {
     "data": {
      "text/plain": [
       "0.6621499296930539"
      ]
     },
     "execution_count": 40,
     "metadata": {},
     "output_type": "execute_result"
    }
   ],
   "source": [
    "coherence_model = CoherenceModel(model=model, texts=texts, dictionary=id2word, coherence='c_v')\n",
    "coherence_model.get_coherence()"
   ]
  },
  {
   "cell_type": "markdown",
   "id": "f1c798e5-e32c-474c-8635-c04e96c4ce85",
   "metadata": {},
   "source": [
    "# Model Results"
   ]
  },
  {
   "cell_type": "code",
   "execution_count": null,
   "id": "8a02b20b-91fc-4a02-a15b-75b8e657365e",
   "metadata": {},
   "outputs": [],
   "source": [
    "# df_results = pd.read_csv('../results.csv')"
   ]
  },
  {
   "cell_type": "code",
   "execution_count": null,
   "id": "45ca36ae-1f35-4cbc-b525-616a26bc9e71",
   "metadata": {},
   "outputs": [],
   "source": [
    "# df_result = df_results[df_results.model_name == 'skenario_7']"
   ]
  },
  {
   "cell_type": "code",
   "execution_count": null,
   "id": "846a0c75-a299-4e17-a0f0-f7ff515fa2f6",
   "metadata": {},
   "outputs": [],
   "source": [
    "# df_result.iloc[0:, 2]"
   ]
  },
  {
   "cell_type": "code",
   "execution_count": null,
   "id": "20c17298-6dc5-4067-9668-95f9dfab2b36",
   "metadata": {},
   "outputs": [],
   "source": [
    "# x = df_result.iloc[0:, 1]\n",
    "# coherence_values = df_result.iloc[0:, 2]\n",
    "\n",
    "# x = x.reset_index(drop=True)\n",
    "# coherence_values = coherence_values.reset_index(drop=True)\n",
    "\n",
    "# plt.plot(x, coherence_values)\n",
    "# # plt.title('Coherence Score Berdasarkan Jumlah Topik')\n",
    "# plt.xlabel('Num Topics')\n",
    "# plt.ylabel('Coherence Score')\n",
    "# plt.xticks(range(min(x), max(x)+1))\n",
    "# # plt.xlim(1, LIMIT-1)\n",
    "# # plt.xticks(coherence_values, x)\n",
    "# plt.legend(('coherence_values'), loc='best')\n",
    "# plt.show()"
   ]
  },
  {
   "cell_type": "code",
   "execution_count": null,
   "id": "1bc811b7-61af-4cd3-9457-c34b36e67138",
   "metadata": {},
   "outputs": [],
   "source": []
  }
 ],
 "metadata": {
  "kernelspec": {
   "display_name": "Python 3 (ipykernel)",
   "language": "python",
   "name": "python3"
  },
  "language_info": {
   "codemirror_mode": {
    "name": "ipython",
    "version": 3
   },
   "file_extension": ".py",
   "mimetype": "text/x-python",
   "name": "python",
   "nbconvert_exporter": "python",
   "pygments_lexer": "ipython3",
   "version": "3.9.13"
  }
 },
 "nbformat": 4,
 "nbformat_minor": 5
}

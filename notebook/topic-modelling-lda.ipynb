{
 "cells": [
  {
   "cell_type": "code",
   "execution_count": 1,
   "id": "6db51452-d8d0-4de3-b135-f4dab3d38184",
   "metadata": {},
   "outputs": [
    {
     "name": "stdout",
     "output_type": "stream",
     "text": [
      "Tue Mar 21 19:39:25 2023       \n",
      "+-----------------------------------------------------------------------------+\n",
      "| NVIDIA-SMI 516.94       Driver Version: 516.94       CUDA Version: 11.7     |\n",
      "|-------------------------------+----------------------+----------------------+\n",
      "| GPU  Name            TCC/WDDM | Bus-Id        Disp.A | Volatile Uncorr. ECC |\n",
      "| Fan  Temp  Perf  Pwr:Usage/Cap|         Memory-Usage | GPU-Util  Compute M. |\n",
      "|                               |                      |               MIG M. |\n",
      "|===============================+======================+======================|\n",
      "|   0  NVIDIA GeForce ... WDDM  | 00000000:01:00.0  On |                  N/A |\n",
      "| 45%   34C    P0    N/A /  75W |    591MiB /  4096MiB |      1%      Default |\n",
      "|                               |                      |                  N/A |\n",
      "+-------------------------------+----------------------+----------------------+\n",
      "                                                                               \n",
      "+-----------------------------------------------------------------------------+\n",
      "| Processes:                                                                  |\n",
      "|  GPU   GI   CI        PID   Type   Process name                  GPU Memory |\n",
      "|        ID   ID                                                   Usage      |\n",
      "|=============================================================================|\n",
      "|    0   N/A  N/A      1120    C+G   ...artMenuExperienceHost.exe    N/A      |\n",
      "|    0   N/A  N/A      3372    C+G   ...ge\\Application\\msedge.exe    N/A      |\n",
      "|    0   N/A  N/A      6040    C+G   C:\\Windows\\explorer.exe         N/A      |\n",
      "|    0   N/A  N/A      7236    C+G   ...5n1h2txyewy\\SearchApp.exe    N/A      |\n",
      "|    0   N/A  N/A      7256    C+G   ...bbwe\\Microsoft.Photos.exe    N/A      |\n",
      "|    0   N/A  N/A      8992    C+G   ...e\\PhoneExperienceHost.exe    N/A      |\n",
      "|    0   N/A  N/A      9052    C+G   ...lPanel\\SystemSettings.exe    N/A      |\n",
      "|    0   N/A  N/A      9684    C+G   ...8wekyb3d8bbwe\\Cortana.exe    N/A      |\n",
      "|    0   N/A  N/A     10844    C+G   ...8wekyb3d8bbwe\\GameBar.exe    N/A      |\n",
      "|    0   N/A  N/A     11380    C+G   ...icrosoft VS Code\\Code.exe    N/A      |\n",
      "|    0   N/A  N/A     12064    C+G   ...2txyewy\\TextInputHost.exe    N/A      |\n",
      "|    0   N/A  N/A     12328    C+G   ...n\\app-10.11.1\\Postman.exe    N/A      |\n",
      "+-----------------------------------------------------------------------------+\n"
     ]
    }
   ],
   "source": [
    "!nvidia-smi"
   ]
  },
  {
   "cell_type": "markdown",
   "id": "60c90620-5e11-4ab7-8a25-bc648198fc9b",
   "metadata": {},
   "source": [
    "# Load Dataset"
   ]
  },
  {
   "cell_type": "code",
   "execution_count": 2,
   "id": "4a233758-3419-4f4b-82c3-ce308c7490bf",
   "metadata": {},
   "outputs": [],
   "source": [
    "import pandas as pd\n",
    "\n",
    "df = pd.read_csv(\"../dataset/gmaps_review_dataset.csv\")"
   ]
  },
  {
   "cell_type": "code",
   "execution_count": 3,
   "id": "27a51a9b-2627-4cac-b628-63940a9362ed",
   "metadata": {},
   "outputs": [
    {
     "data": {
      "text/html": [
       "<div>\n",
       "<style scoped>\n",
       "    .dataframe tbody tr th:only-of-type {\n",
       "        vertical-align: middle;\n",
       "    }\n",
       "\n",
       "    .dataframe tbody tr th {\n",
       "        vertical-align: top;\n",
       "    }\n",
       "\n",
       "    .dataframe thead th {\n",
       "        text-align: right;\n",
       "    }\n",
       "</style>\n",
       "<table border=\"1\" class=\"dataframe\">\n",
       "  <thead>\n",
       "    <tr style=\"text-align: right;\">\n",
       "      <th></th>\n",
       "      <th>_id</th>\n",
       "      <th>datetime</th>\n",
       "      <th>location</th>\n",
       "      <th>rating</th>\n",
       "      <th>scrapped_at</th>\n",
       "      <th>text</th>\n",
       "    </tr>\n",
       "  </thead>\n",
       "  <tbody>\n",
       "    <tr>\n",
       "      <th>0</th>\n",
       "      <td>47d0cdd937754bd6b860f89b2bab1dbb</td>\n",
       "      <td>2022-05-15 11:58:43</td>\n",
       "      <td>Curug Malela</td>\n",
       "      <td>4</td>\n",
       "      <td>2023-02-15 11:58:43</td>\n",
       "      <td>Akses jalannya waktu itu masih sulit di jangka...</td>\n",
       "    </tr>\n",
       "    <tr>\n",
       "      <th>1</th>\n",
       "      <td>4804acd6c05e4f89b098e2ca35019419</td>\n",
       "      <td>2022-08-15 11:58:43</td>\n",
       "      <td>Curug Malela</td>\n",
       "      <td>5</td>\n",
       "      <td>2023-02-15 11:58:43</td>\n",
       "      <td>Perjalanan yg bnr\" bikin Syahduu ,, dr Tempat ...</td>\n",
       "    </tr>\n",
       "    <tr>\n",
       "      <th>2</th>\n",
       "      <td>3eae265bf32a45eca31765a4145bc030</td>\n",
       "      <td>2022-03-15 11:58:43</td>\n",
       "      <td>Curug Malela</td>\n",
       "      <td>5</td>\n",
       "      <td>2023-02-15 11:58:43</td>\n",
       "      <td>Minggu 13 februari 2022 ,\\n\\ngas santai pakai ...</td>\n",
       "    </tr>\n",
       "    <tr>\n",
       "      <th>3</th>\n",
       "      <td>61037dbdb7b14045be49d4494e95cf05</td>\n",
       "      <td>2022-05-15 11:58:44</td>\n",
       "      <td>Curug Malela</td>\n",
       "      <td>5</td>\n",
       "      <td>2023-02-15 11:58:44</td>\n",
       "      <td>7 mei 2022\\nTouring bari mudik\\nMntap perjalan...</td>\n",
       "    </tr>\n",
       "    <tr>\n",
       "      <th>4</th>\n",
       "      <td>a2c9e817e2b949c6880f971f43a11d2f</td>\n",
       "      <td>2022-08-15 11:58:44</td>\n",
       "      <td>Curug Malela</td>\n",
       "      <td>5</td>\n",
       "      <td>2023-02-15 11:58:44</td>\n",
       "      <td>Perjalanan touring motor dari bekasi melewati ...</td>\n",
       "    </tr>\n",
       "  </tbody>\n",
       "</table>\n",
       "</div>"
      ],
      "text/plain": [
       "                                _id             datetime      location  \\\n",
       "0  47d0cdd937754bd6b860f89b2bab1dbb  2022-05-15 11:58:43  Curug Malela   \n",
       "1  4804acd6c05e4f89b098e2ca35019419  2022-08-15 11:58:43  Curug Malela   \n",
       "2  3eae265bf32a45eca31765a4145bc030  2022-03-15 11:58:43  Curug Malela   \n",
       "3  61037dbdb7b14045be49d4494e95cf05  2022-05-15 11:58:44  Curug Malela   \n",
       "4  a2c9e817e2b949c6880f971f43a11d2f  2022-08-15 11:58:44  Curug Malela   \n",
       "\n",
       "   rating          scrapped_at  \\\n",
       "0       4  2023-02-15 11:58:43   \n",
       "1       5  2023-02-15 11:58:43   \n",
       "2       5  2023-02-15 11:58:43   \n",
       "3       5  2023-02-15 11:58:44   \n",
       "4       5  2023-02-15 11:58:44   \n",
       "\n",
       "                                                text  \n",
       "0  Akses jalannya waktu itu masih sulit di jangka...  \n",
       "1  Perjalanan yg bnr\" bikin Syahduu ,, dr Tempat ...  \n",
       "2  Minggu 13 februari 2022 ,\\n\\ngas santai pakai ...  \n",
       "3  7 mei 2022\\nTouring bari mudik\\nMntap perjalan...  \n",
       "4  Perjalanan touring motor dari bekasi melewati ...  "
      ]
     },
     "execution_count": 3,
     "metadata": {},
     "output_type": "execute_result"
    }
   ],
   "source": [
    "df.head()"
   ]
  },
  {
   "cell_type": "code",
   "execution_count": 4,
   "id": "0510a32e-511c-4a59-ab64-274705bc1320",
   "metadata": {},
   "outputs": [],
   "source": [
    "df['datetime'] = df['datetime'].apply(pd.to_datetime)"
   ]
  },
  {
   "cell_type": "code",
   "execution_count": 5,
   "id": "bce79542-06c2-46ae-9634-05135234b8e2",
   "metadata": {},
   "outputs": [
    {
     "name": "stdout",
     "output_type": "stream",
     "text": [
      "<class 'pandas.core.frame.DataFrame'>\n",
      "RangeIndex: 13587 entries, 0 to 13586\n",
      "Data columns (total 6 columns):\n",
      " #   Column       Non-Null Count  Dtype         \n",
      "---  ------       --------------  -----         \n",
      " 0   _id          13587 non-null  object        \n",
      " 1   datetime     13587 non-null  datetime64[ns]\n",
      " 2   location     13587 non-null  object        \n",
      " 3   rating       13587 non-null  int64         \n",
      " 4   scrapped_at  13587 non-null  object        \n",
      " 5   text         13587 non-null  object        \n",
      "dtypes: datetime64[ns](1), int64(1), object(4)\n",
      "memory usage: 637.0+ KB\n"
     ]
    }
   ],
   "source": [
    "df.info()"
   ]
  },
  {
   "cell_type": "markdown",
   "id": "0fa2ff8c-e532-4a10-afc8-f445ee12483b",
   "metadata": {},
   "source": [
    "# Masking Dataset"
   ]
  },
  {
   "cell_type": "code",
   "execution_count": 6,
   "id": "1cafa429-c23a-4f69-9a33-b806c5f83f9b",
   "metadata": {},
   "outputs": [],
   "source": [
    "mask = (df['datetime'] >= '2019-1-1')\n",
    "df = df.loc[mask]"
   ]
  },
  {
   "cell_type": "code",
   "execution_count": 7,
   "id": "6a3f5105-945a-4ffd-9525-aa67bf8a1df0",
   "metadata": {},
   "outputs": [
    {
     "data": {
      "text/plain": [
       "12569"
      ]
     },
     "execution_count": 7,
     "metadata": {},
     "output_type": "execute_result"
    }
   ],
   "source": [
    "len(df)"
   ]
  },
  {
   "cell_type": "code",
   "execution_count": 8,
   "id": "a8a5c7c1-80fb-4c48-9cfd-b9ee2fa674e6",
   "metadata": {},
   "outputs": [],
   "source": [
    "df = df.drop(columns=['rating', 'scrapped_at'])"
   ]
  },
  {
   "cell_type": "markdown",
   "id": "c50056d2-a43d-4044-98ab-33c48a174457",
   "metadata": {
    "tags": []
   },
   "source": [
    "## Drop Duplicate"
   ]
  },
  {
   "cell_type": "code",
   "execution_count": 9,
   "id": "d0685f05-a5bf-40c7-b7c6-709d54926e2a",
   "metadata": {
    "tags": []
   },
   "outputs": [],
   "source": [
    "df = df.drop_duplicates(subset=['text'])"
   ]
  },
  {
   "cell_type": "code",
   "execution_count": 10,
   "id": "02117ae7-b5c7-4608-a26f-8df6a1ee450c",
   "metadata": {
    "tags": []
   },
   "outputs": [
    {
     "data": {
      "text/plain": [
       "11937"
      ]
     },
     "execution_count": 10,
     "metadata": {},
     "output_type": "execute_result"
    }
   ],
   "source": [
    "len(df)"
   ]
  },
  {
   "cell_type": "code",
   "execution_count": 11,
   "id": "4a97ae3f-dd0e-4771-b732-fa6289cd56dd",
   "metadata": {
    "tags": []
   },
   "outputs": [],
   "source": [
    "# duplicate = df[df.duplicated(subset=['text'])]"
   ]
  },
  {
   "cell_type": "code",
   "execution_count": 12,
   "id": "857fd4b1-bcf7-437c-8269-05c8dca943cf",
   "metadata": {
    "tags": []
   },
   "outputs": [],
   "source": [
    "# duplicate"
   ]
  },
  {
   "cell_type": "markdown",
   "id": "ea476da0-0169-473b-a98f-b7cf102ade20",
   "metadata": {},
   "source": [
    "# Analysis"
   ]
  },
  {
   "cell_type": "code",
   "execution_count": null,
   "id": "b47690b8-21e4-4e58-b68c-612f8fab4a3c",
   "metadata": {},
   "outputs": [],
   "source": []
  },
  {
   "cell_type": "markdown",
   "id": "1478d401-46df-4af4-834d-3afa75bcd9a1",
   "metadata": {},
   "source": [
    "# Data Preprocessing"
   ]
  },
  {
   "cell_type": "markdown",
   "id": "a4bf7eaf-7cdf-4d5e-8408-3771a0b6de78",
   "metadata": {},
   "source": [
    "## Cleaning"
   ]
  },
  {
   "cell_type": "code",
   "execution_count": 13,
   "id": "4f57dabd-4ca4-452f-86a0-3534e61ff677",
   "metadata": {},
   "outputs": [],
   "source": [
    "def get_translate_text(text):\n",
    "    keyword = ['(Diterjemahkan oleh Google)', '(Asli)']\n",
    "    if keyword[0] in text and keyword[1] in text:\n",
    "        text = text[text.find(keyword[0]) + len(keyword[0]):text.rfind(keyword[1])]\n",
    "    elif keyword[0] in text and keyword[1] not in text:\n",
    "        text = text[text.find(keyword[0]) + len(keyword[0]):]\n",
    "    return text "
   ]
  },
  {
   "cell_type": "code",
   "execution_count": 14,
   "id": "fe8009b1-7b23-49c7-84b7-b468c3db852b",
   "metadata": {},
   "outputs": [],
   "source": [
    "import re\n",
    "\n",
    "def clean_text(text):\n",
    "    emoji_pattern = re.compile(\"[\"\n",
    "        u\"\\U0001F600-\\U0001F64F\"  # emoticons\n",
    "        u\"\\U0001F300-\\U0001F5FF\"  # symbols & pictographs\n",
    "        u\"\\U0001F680-\\U0001F6FF\"  # transport & map symbols\n",
    "        u\"\\U0001F1E0-\\U0001F1FF\"  # flags (iOS)\n",
    "                            \"]+\", flags=re.UNICODE)\n",
    "    text = emoji_pattern.sub(r' ', text) # no emoji\n",
    "    text = text.lower() #to lowercase\n",
    "    text = re.sub('\\n', ' ', text) #remove \\n\n",
    "    text = re.sub(r'[^\\w\\s]', ' ', text) #remove punctuation\n",
    "    text = re.sub(\"\\d+\", \"\", text) #remove number\n",
    "    text = re.sub(' +', ' ', text) #remove multiple whitespace\n",
    "    \n",
    "    if re.search(r'([a-zA-Z])\\1{2,}', text): # Spell\n",
    "        text = re.sub(r'([a-zA-Z])\\1{2,}','\\\\1', text)\n",
    "        \n",
    "    return text"
   ]
  },
  {
   "cell_type": "code",
   "execution_count": 15,
   "id": "7e530d65-70b9-4b06-87c2-e8692d4daa75",
   "metadata": {},
   "outputs": [],
   "source": [
    "df['text_preprocess'] = df['text'].apply(get_translate_text)\n",
    "df['text_preprocess'] = df['text_preprocess'].apply(clean_text)\n",
    "df['len_char'] = df['text_preprocess'].apply(lambda x: len(x))\n",
    "df['len_word'] = df['text_preprocess'].apply(lambda x: len(x.split(' ')))"
   ]
  },
  {
   "cell_type": "code",
   "execution_count": 16,
   "id": "dc6223b1-5ae4-4f93-b47d-998484052435",
   "metadata": {},
   "outputs": [
    {
     "data": {
      "text/html": [
       "<div>\n",
       "<style scoped>\n",
       "    .dataframe tbody tr th:only-of-type {\n",
       "        vertical-align: middle;\n",
       "    }\n",
       "\n",
       "    .dataframe tbody tr th {\n",
       "        vertical-align: top;\n",
       "    }\n",
       "\n",
       "    .dataframe thead th {\n",
       "        text-align: right;\n",
       "    }\n",
       "</style>\n",
       "<table border=\"1\" class=\"dataframe\">\n",
       "  <thead>\n",
       "    <tr style=\"text-align: right;\">\n",
       "      <th></th>\n",
       "      <th>_id</th>\n",
       "      <th>datetime</th>\n",
       "      <th>location</th>\n",
       "      <th>text</th>\n",
       "      <th>text_preprocess</th>\n",
       "      <th>len_char</th>\n",
       "      <th>len_word</th>\n",
       "    </tr>\n",
       "  </thead>\n",
       "  <tbody>\n",
       "    <tr>\n",
       "      <th>0</th>\n",
       "      <td>47d0cdd937754bd6b860f89b2bab1dbb</td>\n",
       "      <td>2022-05-15 11:58:43</td>\n",
       "      <td>Curug Malela</td>\n",
       "      <td>Akses jalannya waktu itu masih sulit di jangka...</td>\n",
       "      <td>akses jalannya waktu itu masih sulit di jangka...</td>\n",
       "      <td>84</td>\n",
       "      <td>13</td>\n",
       "    </tr>\n",
       "    <tr>\n",
       "      <th>1</th>\n",
       "      <td>4804acd6c05e4f89b098e2ca35019419</td>\n",
       "      <td>2022-08-15 11:58:43</td>\n",
       "      <td>Curug Malela</td>\n",
       "      <td>Perjalanan yg bnr\" bikin Syahduu ,, dr Tempat ...</td>\n",
       "      <td>perjalanan yg bnr bikin syahduu dr tempat park...</td>\n",
       "      <td>110</td>\n",
       "      <td>19</td>\n",
       "    </tr>\n",
       "    <tr>\n",
       "      <th>2</th>\n",
       "      <td>3eae265bf32a45eca31765a4145bc030</td>\n",
       "      <td>2022-03-15 11:58:43</td>\n",
       "      <td>Curug Malela</td>\n",
       "      <td>Minggu 13 februari 2022 ,\\n\\ngas santai pakai ...</td>\n",
       "      <td>minggu februari gas santai pakai motor dari da...</td>\n",
       "      <td>1993</td>\n",
       "      <td>338</td>\n",
       "    </tr>\n",
       "    <tr>\n",
       "      <th>3</th>\n",
       "      <td>61037dbdb7b14045be49d4494e95cf05</td>\n",
       "      <td>2022-05-15 11:58:44</td>\n",
       "      <td>Curug Malela</td>\n",
       "      <td>7 mei 2022\\nTouring bari mudik\\nMntap perjalan...</td>\n",
       "      <td>mei touring bari mudik mntap perjalanan sungg...</td>\n",
       "      <td>162</td>\n",
       "      <td>25</td>\n",
       "    </tr>\n",
       "    <tr>\n",
       "      <th>4</th>\n",
       "      <td>a2c9e817e2b949c6880f971f43a11d2f</td>\n",
       "      <td>2022-08-15 11:58:44</td>\n",
       "      <td>Curug Malela</td>\n",
       "      <td>Perjalanan touring motor dari bekasi melewati ...</td>\n",
       "      <td>perjalanan touring motor dari bekasi melewati ...</td>\n",
       "      <td>152</td>\n",
       "      <td>23</td>\n",
       "    </tr>\n",
       "  </tbody>\n",
       "</table>\n",
       "</div>"
      ],
      "text/plain": [
       "                                _id            datetime      location  \\\n",
       "0  47d0cdd937754bd6b860f89b2bab1dbb 2022-05-15 11:58:43  Curug Malela   \n",
       "1  4804acd6c05e4f89b098e2ca35019419 2022-08-15 11:58:43  Curug Malela   \n",
       "2  3eae265bf32a45eca31765a4145bc030 2022-03-15 11:58:43  Curug Malela   \n",
       "3  61037dbdb7b14045be49d4494e95cf05 2022-05-15 11:58:44  Curug Malela   \n",
       "4  a2c9e817e2b949c6880f971f43a11d2f 2022-08-15 11:58:44  Curug Malela   \n",
       "\n",
       "                                                text  \\\n",
       "0  Akses jalannya waktu itu masih sulit di jangka...   \n",
       "1  Perjalanan yg bnr\" bikin Syahduu ,, dr Tempat ...   \n",
       "2  Minggu 13 februari 2022 ,\\n\\ngas santai pakai ...   \n",
       "3  7 mei 2022\\nTouring bari mudik\\nMntap perjalan...   \n",
       "4  Perjalanan touring motor dari bekasi melewati ...   \n",
       "\n",
       "                                     text_preprocess  len_char  len_word  \n",
       "0  akses jalannya waktu itu masih sulit di jangka...        84        13  \n",
       "1  perjalanan yg bnr bikin syahduu dr tempat park...       110        19  \n",
       "2  minggu februari gas santai pakai motor dari da...      1993       338  \n",
       "3   mei touring bari mudik mntap perjalanan sungg...       162        25  \n",
       "4  perjalanan touring motor dari bekasi melewati ...       152        23  "
      ]
     },
     "execution_count": 16,
     "metadata": {},
     "output_type": "execute_result"
    }
   ],
   "source": [
    "df.head()"
   ]
  },
  {
   "cell_type": "code",
   "execution_count": 17,
   "id": "47b1a660-d501-47aa-a0f5-1fac08f23032",
   "metadata": {},
   "outputs": [
    {
     "data": {
      "text/html": [
       "<div>\n",
       "<style scoped>\n",
       "    .dataframe tbody tr th:only-of-type {\n",
       "        vertical-align: middle;\n",
       "    }\n",
       "\n",
       "    .dataframe tbody tr th {\n",
       "        vertical-align: top;\n",
       "    }\n",
       "\n",
       "    .dataframe thead th {\n",
       "        text-align: right;\n",
       "    }\n",
       "</style>\n",
       "<table border=\"1\" class=\"dataframe\">\n",
       "  <thead>\n",
       "    <tr style=\"text-align: right;\">\n",
       "      <th></th>\n",
       "      <th>_id</th>\n",
       "      <th>datetime</th>\n",
       "      <th>location</th>\n",
       "      <th>text</th>\n",
       "      <th>text_preprocess</th>\n",
       "      <th>len_char</th>\n",
       "      <th>len_word</th>\n",
       "    </tr>\n",
       "  </thead>\n",
       "  <tbody>\n",
       "    <tr>\n",
       "      <th>8340</th>\n",
       "      <td>3452054e89614078a257967adbbee4b6</td>\n",
       "      <td>2021-02-15 14:13:20</td>\n",
       "      <td>Sanghyang Kenit</td>\n",
       "      <td>Kerennnn 😍 …</td>\n",
       "      <td>keren</td>\n",
       "      <td>6</td>\n",
       "      <td>2</td>\n",
       "    </tr>\n",
       "  </tbody>\n",
       "</table>\n",
       "</div>"
      ],
      "text/plain": [
       "                                   _id            datetime         location  \\\n",
       "8340  3452054e89614078a257967adbbee4b6 2021-02-15 14:13:20  Sanghyang Kenit   \n",
       "\n",
       "              text text_preprocess  len_char  len_word  \n",
       "8340  Kerennnn 😍 …          keren          6         2  "
      ]
     },
     "execution_count": 17,
     "metadata": {},
     "output_type": "execute_result"
    }
   ],
   "source": [
    "df[df['_id'] == '3452054e89614078a257967adbbee4b6']"
   ]
  },
  {
   "cell_type": "markdown",
   "id": "add5e832-a55c-48ba-b407-97f532a4a408",
   "metadata": {},
   "source": [
    "## Tokenizing"
   ]
  },
  {
   "cell_type": "code",
   "execution_count": 19,
   "id": "491793ca",
   "metadata": {},
   "outputs": [],
   "source": [
    "# nltk.download('punkt')\n",
    "# nltk.download('stopwords')\n",
    "# nltk.download('wordnet')\n",
    "# nltk.download('omw-1.4')"
   ]
  },
  {
   "cell_type": "code",
   "execution_count": 20,
   "id": "a5c5bbe8-ae8c-45d2-8e0e-fa45e0ce4119",
   "metadata": {},
   "outputs": [],
   "source": [
    "import nltk\n",
    "from nltk.tokenize import word_tokenize\n",
    "\n",
    "df['tokens'] = df['text_preprocess'].apply(lambda x: word_tokenize(x))"
   ]
  },
  {
   "cell_type": "code",
   "execution_count": 21,
   "id": "9bd0b5a3-405d-4ce8-ae30-90f2656677f1",
   "metadata": {},
   "outputs": [
    {
     "data": {
      "text/plain": [
       "0        [akses, jalannya, waktu, itu, masih, sulit, di...\n",
       "1        [perjalanan, yg, bnr, bikin, syahduu, dr, temp...\n",
       "2        [minggu, februari, gas, santai, pakai, motor, ...\n",
       "3        [mei, touring, bari, mudik, mntap, perjalanan,...\n",
       "4        [perjalanan, touring, motor, dari, bekasi, mel...\n",
       "                               ...                        \n",
       "13582    [hanya, mencoba, sarapan, dan, offroad, pakai,...\n",
       "13583    [pngnnya, ksni, petik, strawberry, tpi, lgi, g...\n",
       "13584    [ksini, cuma, main, aja, dan, lihat, lihat, su...\n",
       "13585    [luar, biasa, mantap, makan, prasmanan, ny, mu...\n",
       "13586             [tempat, dan, suasananya, sejuk, banget]\n",
       "Name: tokens, Length: 11937, dtype: object"
      ]
     },
     "execution_count": 21,
     "metadata": {},
     "output_type": "execute_result"
    }
   ],
   "source": [
    "df['tokens']"
   ]
  },
  {
   "cell_type": "markdown",
   "id": "aecdc7fa-9f5e-4b01-ae77-8c2b15917a01",
   "metadata": {},
   "source": [
    "## Stopwords removal"
   ]
  },
  {
   "cell_type": "code",
   "execution_count": 22,
   "id": "46393ad0-3fb6-42fc-a7f5-f0279f2d26ef",
   "metadata": {},
   "outputs": [],
   "source": [
    "from nltk.corpus import stopwords \n",
    "\n",
    "stop_words = stopwords.words('indonesian')\n",
    "stop_words.extend(['yg', 'rb', 'nya'])\n",
    "\n",
    "df['tokens'] = df['tokens'].apply(lambda x: [w for w in x if not w in stop_words])"
   ]
  },
  {
   "cell_type": "code",
   "execution_count": 23,
   "id": "f75dfdad-1c77-436a-a921-bc08d6a7671f",
   "metadata": {},
   "outputs": [
    {
     "data": {
      "text/plain": [
       "0        [akses, jalannya, sulit, jangkau, perjalanan, ...\n",
       "1        [perjalanan, bnr, bikin, syahduu, dr, parkir, ...\n",
       "2        [minggu, februari, gas, santai, pakai, motor, ...\n",
       "3        [mei, touring, bari, mudik, mntap, perjalanan,...\n",
       "4        [perjalanan, touring, motor, bekasi, melewati,...\n",
       "                               ...                        \n",
       "13582    [mencoba, sarapan, offroad, pakai, land, rover...\n",
       "13583    [pngnnya, ksni, petik, strawberry, tpi, lgi, g...\n",
       "13584    [ksini, main, aja, lihat, lihat, suasananya, e...\n",
       "13585                [mantap, makan, prasmanan, ny, murah]\n",
       "13586                          [suasananya, sejuk, banget]\n",
       "Name: tokens, Length: 11937, dtype: object"
      ]
     },
     "execution_count": 23,
     "metadata": {},
     "output_type": "execute_result"
    }
   ],
   "source": [
    "df['tokens']"
   ]
  },
  {
   "cell_type": "markdown",
   "id": "c15ad6cb-b5dd-416f-9ae5-d08490de9f14",
   "metadata": {},
   "source": [
    "## Stemming"
   ]
  },
  {
   "cell_type": "code",
   "execution_count": 24,
   "id": "58f978e3-ac02-422c-b7b2-4fe257a1ce11",
   "metadata": {},
   "outputs": [],
   "source": [
    "from Sastrawi.Stemmer.StemmerFactory import StemmerFactory\n",
    "\n",
    "factory = StemmerFactory()\n",
    "stemmer = factory.create_stemmer()\n",
    " \n",
    "df['tokens'] = df['tokens'].apply(lambda x: stemmer.stem(' '.join(x)).split(' '))"
   ]
  },
  {
   "cell_type": "code",
   "execution_count": 25,
   "id": "afbcc7a3-6f96-4283-8612-0d2ca2b4f041",
   "metadata": {},
   "outputs": [
    {
     "data": {
      "text/plain": [
       "0        [akses, jalan, sulit, jangkau, jalan, tuji, cu...\n",
       "1        [jalan, bnr, bikin, syahduu, dr, parkir, lokas...\n",
       "2        [minggu, februari, gas, santai, pakai, motor, ...\n",
       "3        [mei, touring, bari, mudik, mntap, jalan, sung...\n",
       "4        [jalan, touring, motor, bekas, lewat, track, s...\n",
       "                               ...                        \n",
       "13582    [coba, sarap, offroad, pakai, land, rover, mak...\n",
       "13583    [pngnnya, ksni, petik, strawberry, tpi, lgi, g...\n",
       "13584    [ksini, main, aja, lihat, lihat, suasana, emg,...\n",
       "13585                [mantap, makan, prasmanan, ny, murah]\n",
       "13586                             [suasana, sejuk, banget]\n",
       "Name: tokens, Length: 11937, dtype: object"
      ]
     },
     "execution_count": 25,
     "metadata": {},
     "output_type": "execute_result"
    }
   ],
   "source": [
    "df['tokens']"
   ]
  },
  {
   "cell_type": "code",
   "execution_count": 26,
   "id": "84f41b96-e678-495d-9534-efd811acaaa9",
   "metadata": {},
   "outputs": [
    {
     "data": {
      "text/plain": [
       "1049    [bagus, hiking, teman, keluarga, warung, jual,...\n",
       "Name: tokens, dtype: object"
      ]
     },
     "execution_count": 26,
     "metadata": {},
     "output_type": "execute_result"
    }
   ],
   "source": [
    "df[df['_id'] == '9d6e15357c5441078e33cf373d9b272d'][\"tokens\"]\n",
    "# df[df['_id'] == '9d6e15357c5441078e33cf373d9b272d']"
   ]
  },
  {
   "cell_type": "code",
   "execution_count": 27,
   "id": "73830b13-a337-41b1-8c05-c6e9e523d35a",
   "metadata": {},
   "outputs": [
    {
     "data": {
      "text/plain": [
       "(84, 13)"
      ]
     },
     "execution_count": 27,
     "metadata": {},
     "output_type": "execute_result"
    }
   ],
   "source": [
    "len_char = len(df.iloc[0]['text_preprocess'])\n",
    "len_word = len(df.iloc[0]['text_preprocess'].split(' '))\n",
    "len_char, len_word"
   ]
  },
  {
   "cell_type": "markdown",
   "id": "efb9eb65-b026-457d-be8d-e3ce17d37b53",
   "metadata": {},
   "source": [
    "# Explanatory Data Analysis"
   ]
  },
  {
   "cell_type": "code",
   "execution_count": 28,
   "id": "b237635e-82cd-47a2-9cba-d6de7dbc2949",
   "metadata": {},
   "outputs": [
    {
     "data": {
      "text/plain": [
       "11937"
      ]
     },
     "execution_count": 28,
     "metadata": {},
     "output_type": "execute_result"
    }
   ],
   "source": [
    "len(df)"
   ]
  },
  {
   "cell_type": "code",
   "execution_count": 29,
   "id": "e145b8c0-391a-4aa7-9168-7a5283c7f12b",
   "metadata": {},
   "outputs": [
    {
     "data": {
      "text/html": [
       "<div>\n",
       "<style scoped>\n",
       "    .dataframe tbody tr th:only-of-type {\n",
       "        vertical-align: middle;\n",
       "    }\n",
       "\n",
       "    .dataframe tbody tr th {\n",
       "        vertical-align: top;\n",
       "    }\n",
       "\n",
       "    .dataframe thead th {\n",
       "        text-align: right;\n",
       "    }\n",
       "</style>\n",
       "<table border=\"1\" class=\"dataframe\">\n",
       "  <thead>\n",
       "    <tr style=\"text-align: right;\">\n",
       "      <th></th>\n",
       "      <th>_id</th>\n",
       "      <th>datetime</th>\n",
       "      <th>location</th>\n",
       "      <th>text</th>\n",
       "      <th>text_preprocess</th>\n",
       "      <th>len_char</th>\n",
       "      <th>len_word</th>\n",
       "      <th>tokens</th>\n",
       "    </tr>\n",
       "  </thead>\n",
       "  <tbody>\n",
       "    <tr>\n",
       "      <th>876</th>\n",
       "      <td>394f0b5314144eceb2265fe283b817f6</td>\n",
       "      <td>2022-02-15 12:25:50</td>\n",
       "      <td>Curug Tilu Leuwi Opat</td>\n",
       "      <td>Good\\n\\n(Diterjemahkan oleh Google)\\nBagus</td>\n",
       "      <td>bagus</td>\n",
       "      <td>6</td>\n",
       "      <td>2</td>\n",
       "      <td>[bagus]</td>\n",
       "    </tr>\n",
       "    <tr>\n",
       "      <th>877</th>\n",
       "      <td>f1a148b5936b49aa96ba495c993899d5</td>\n",
       "      <td>2021-02-15 12:25:50</td>\n",
       "      <td>Curug Tilu Leuwi Opat</td>\n",
       "      <td>Ok\\n\\n(Diterjemahkan oleh Google)\\nOke</td>\n",
       "      <td>oke</td>\n",
       "      <td>4</td>\n",
       "      <td>2</td>\n",
       "      <td>[oke]</td>\n",
       "    </tr>\n",
       "    <tr>\n",
       "      <th>880</th>\n",
       "      <td>1018e45b7efd4ad0aa94701414f10b0e</td>\n",
       "      <td>2019-02-15 12:25:50</td>\n",
       "      <td>Curug Tilu Leuwi Opat</td>\n",
       "      <td>Nice place\\n\\n(Diterjemahkan oleh Google)\\nTem...</td>\n",
       "      <td>tempat yang bagus</td>\n",
       "      <td>18</td>\n",
       "      <td>4</td>\n",
       "      <td>[bagus]</td>\n",
       "    </tr>\n",
       "    <tr>\n",
       "      <th>883</th>\n",
       "      <td>4b33a656a0c44977b6921657dc28366c</td>\n",
       "      <td>2019-02-15 12:25:51</td>\n",
       "      <td>Curug Tilu Leuwi Opat</td>\n",
       "      <td>(Diterjemahkan oleh Google) Bagus\\n\\n(Asli)\\nB...</td>\n",
       "      <td>bagus</td>\n",
       "      <td>7</td>\n",
       "      <td>3</td>\n",
       "      <td>[bagus]</td>\n",
       "    </tr>\n",
       "    <tr>\n",
       "      <th>894</th>\n",
       "      <td>600dcccf0e1a45e38327de12c429f79a</td>\n",
       "      <td>2020-02-15 12:25:53</td>\n",
       "      <td>Curug Tilu Leuwi Opat</td>\n",
       "      <td>(Diterjemahkan oleh Google) Bagus\\n\\n(Asli)\\nجيد</td>\n",
       "      <td>bagus</td>\n",
       "      <td>7</td>\n",
       "      <td>3</td>\n",
       "      <td>[bagus]</td>\n",
       "    </tr>\n",
       "    <tr>\n",
       "      <th>...</th>\n",
       "      <td>...</td>\n",
       "      <td>...</td>\n",
       "      <td>...</td>\n",
       "      <td>...</td>\n",
       "      <td>...</td>\n",
       "      <td>...</td>\n",
       "      <td>...</td>\n",
       "      <td>...</td>\n",
       "    </tr>\n",
       "    <tr>\n",
       "      <th>11716</th>\n",
       "      <td>d6378cac0ae1467396cfc8607552f83b</td>\n",
       "      <td>2019-02-23 18:13:41</td>\n",
       "      <td>Ciwangun Indah Camp (CIC)</td>\n",
       "      <td>(Diterjemahkan oleh Google) Luar biasa\\n\\n(Asl...</td>\n",
       "      <td>luar biasa</td>\n",
       "      <td>12</td>\n",
       "      <td>4</td>\n",
       "      <td>[]</td>\n",
       "    </tr>\n",
       "    <tr>\n",
       "      <th>11726</th>\n",
       "      <td>b6f54fd2055c455e9f51372b78047599</td>\n",
       "      <td>2021-02-23 18:13:42</td>\n",
       "      <td>Ciwangun Indah Camp (CIC)</td>\n",
       "      <td>(Diterjemahkan oleh Google) Bagus....\\n\\n(Asli...</td>\n",
       "      <td>bagus</td>\n",
       "      <td>7</td>\n",
       "      <td>3</td>\n",
       "      <td>[bagus]</td>\n",
       "    </tr>\n",
       "    <tr>\n",
       "      <th>11727</th>\n",
       "      <td>289892de5ca24de6a88bb6a43ea1b089</td>\n",
       "      <td>2020-02-23 18:13:42</td>\n",
       "      <td>Ciwangun Indah Camp (CIC)</td>\n",
       "      <td>(Diterjemahkan oleh Google) Kembali ke alam\\n\\...</td>\n",
       "      <td>kembali ke alam</td>\n",
       "      <td>17</td>\n",
       "      <td>5</td>\n",
       "      <td>[alam]</td>\n",
       "    </tr>\n",
       "    <tr>\n",
       "      <th>12609</th>\n",
       "      <td>8598a4886ed54ec3926dbc49f80b3bfd</td>\n",
       "      <td>2020-02-23 18:35:13</td>\n",
       "      <td>Orchid Forest Cikole</td>\n",
       "      <td>Terima Kasih banyak Kak atas kunjungan dan rev...</td>\n",
       "      <td>terima kasih banyak kak atas kunjungan dan rev...</td>\n",
       "      <td>93</td>\n",
       "      <td>14</td>\n",
       "      <td>[terima, kasih, kak, kunjung, reviewnya, tungg...</td>\n",
       "    </tr>\n",
       "    <tr>\n",
       "      <th>13261</th>\n",
       "      <td>03584a84601b489eb41f419ce1b9c9b7</td>\n",
       "      <td>2020-02-23 18:22:48</td>\n",
       "      <td>Terminal Wisata Grafika Cikole</td>\n",
       "      <td>Tempatnya sejuk, nyaman</td>\n",
       "      <td>tempatnya sejuk nyaman</td>\n",
       "      <td>22</td>\n",
       "      <td>3</td>\n",
       "      <td>[tempat, sejuk, nyaman]</td>\n",
       "    </tr>\n",
       "  </tbody>\n",
       "</table>\n",
       "<p>94 rows × 8 columns</p>\n",
       "</div>"
      ],
      "text/plain": [
       "                                    _id            datetime  \\\n",
       "876    394f0b5314144eceb2265fe283b817f6 2022-02-15 12:25:50   \n",
       "877    f1a148b5936b49aa96ba495c993899d5 2021-02-15 12:25:50   \n",
       "880    1018e45b7efd4ad0aa94701414f10b0e 2019-02-15 12:25:50   \n",
       "883    4b33a656a0c44977b6921657dc28366c 2019-02-15 12:25:51   \n",
       "894    600dcccf0e1a45e38327de12c429f79a 2020-02-15 12:25:53   \n",
       "...                                 ...                 ...   \n",
       "11716  d6378cac0ae1467396cfc8607552f83b 2019-02-23 18:13:41   \n",
       "11726  b6f54fd2055c455e9f51372b78047599 2021-02-23 18:13:42   \n",
       "11727  289892de5ca24de6a88bb6a43ea1b089 2020-02-23 18:13:42   \n",
       "12609  8598a4886ed54ec3926dbc49f80b3bfd 2020-02-23 18:35:13   \n",
       "13261  03584a84601b489eb41f419ce1b9c9b7 2020-02-23 18:22:48   \n",
       "\n",
       "                             location  \\\n",
       "876             Curug Tilu Leuwi Opat   \n",
       "877             Curug Tilu Leuwi Opat   \n",
       "880             Curug Tilu Leuwi Opat   \n",
       "883             Curug Tilu Leuwi Opat   \n",
       "894             Curug Tilu Leuwi Opat   \n",
       "...                               ...   \n",
       "11716       Ciwangun Indah Camp (CIC)   \n",
       "11726       Ciwangun Indah Camp (CIC)   \n",
       "11727       Ciwangun Indah Camp (CIC)   \n",
       "12609            Orchid Forest Cikole   \n",
       "13261  Terminal Wisata Grafika Cikole   \n",
       "\n",
       "                                                    text  \\\n",
       "876           Good\\n\\n(Diterjemahkan oleh Google)\\nBagus   \n",
       "877               Ok\\n\\n(Diterjemahkan oleh Google)\\nOke   \n",
       "880    Nice place\\n\\n(Diterjemahkan oleh Google)\\nTem...   \n",
       "883    (Diterjemahkan oleh Google) Bagus\\n\\n(Asli)\\nB...   \n",
       "894     (Diterjemahkan oleh Google) Bagus\\n\\n(Asli)\\nجيد   \n",
       "...                                                  ...   \n",
       "11716  (Diterjemahkan oleh Google) Luar biasa\\n\\n(Asl...   \n",
       "11726  (Diterjemahkan oleh Google) Bagus....\\n\\n(Asli...   \n",
       "11727  (Diterjemahkan oleh Google) Kembali ke alam\\n\\...   \n",
       "12609  Terima Kasih banyak Kak atas kunjungan dan rev...   \n",
       "13261                            Tempatnya sejuk, nyaman   \n",
       "\n",
       "                                         text_preprocess  len_char  len_word  \\\n",
       "876                                                bagus         6         2   \n",
       "877                                                  oke         4         2   \n",
       "880                                    tempat yang bagus        18         4   \n",
       "883                                               bagus          7         3   \n",
       "894                                               bagus          7         3   \n",
       "...                                                  ...       ...       ...   \n",
       "11716                                        luar biasa         12         4   \n",
       "11726                                             bagus          7         3   \n",
       "11727                                   kembali ke alam         17         5   \n",
       "12609  terima kasih banyak kak atas kunjungan dan rev...        93        14   \n",
       "13261                             tempatnya sejuk nyaman        22         3   \n",
       "\n",
       "                                                  tokens  \n",
       "876                                              [bagus]  \n",
       "877                                                [oke]  \n",
       "880                                              [bagus]  \n",
       "883                                              [bagus]  \n",
       "894                                              [bagus]  \n",
       "...                                                  ...  \n",
       "11716                                                 []  \n",
       "11726                                            [bagus]  \n",
       "11727                                             [alam]  \n",
       "12609  [terima, kasih, kak, kunjung, reviewnya, tungg...  \n",
       "13261                            [tempat, sejuk, nyaman]  \n",
       "\n",
       "[94 rows x 8 columns]"
      ]
     },
     "execution_count": 29,
     "metadata": {},
     "output_type": "execute_result"
    }
   ],
   "source": [
    "df[df.duplicated(subset=['text_preprocess'])]"
   ]
  },
  {
   "cell_type": "code",
   "execution_count": 30,
   "id": "74acb4ee-c16f-4370-a6e1-cb209e9276bc",
   "metadata": {},
   "outputs": [],
   "source": [
    "df = df.drop_duplicates(subset=['text_preprocess'])"
   ]
  },
  {
   "cell_type": "code",
   "execution_count": 31,
   "id": "63d27515-2b38-4736-8ed9-e9c55527f360",
   "metadata": {},
   "outputs": [],
   "source": [
    "df['len_token'] = df['tokens'].apply(lambda x: len(x))"
   ]
  },
  {
   "cell_type": "code",
   "execution_count": 32,
   "id": "db9d9245-7992-40a6-a7b9-dfa9849a869f",
   "metadata": {},
   "outputs": [
    {
     "data": {
      "text/html": [
       "<div>\n",
       "<style scoped>\n",
       "    .dataframe tbody tr th:only-of-type {\n",
       "        vertical-align: middle;\n",
       "    }\n",
       "\n",
       "    .dataframe tbody tr th {\n",
       "        vertical-align: top;\n",
       "    }\n",
       "\n",
       "    .dataframe thead th {\n",
       "        text-align: right;\n",
       "    }\n",
       "</style>\n",
       "<table border=\"1\" class=\"dataframe\">\n",
       "  <thead>\n",
       "    <tr style=\"text-align: right;\">\n",
       "      <th></th>\n",
       "      <th>_id</th>\n",
       "      <th>datetime</th>\n",
       "      <th>location</th>\n",
       "      <th>text</th>\n",
       "      <th>text_preprocess</th>\n",
       "      <th>len_char</th>\n",
       "      <th>len_word</th>\n",
       "      <th>tokens</th>\n",
       "      <th>len_token</th>\n",
       "    </tr>\n",
       "  </thead>\n",
       "  <tbody>\n",
       "    <tr>\n",
       "      <th>49</th>\n",
       "      <td>457feb4e6161474f829dd51b07af05fe</td>\n",
       "      <td>2023-01-15 11:58:46</td>\n",
       "      <td>Curug Malela</td>\n",
       "      <td>Niagara kecil yang tersembunyi</td>\n",
       "      <td>niagara kecil yang tersembunyi</td>\n",
       "      <td>30</td>\n",
       "      <td>4</td>\n",
       "      <td>[niagara, sembunyi]</td>\n",
       "      <td>2</td>\n",
       "    </tr>\n",
       "    <tr>\n",
       "      <th>79</th>\n",
       "      <td>7f59834407cf4fddaf1df89ad19086df</td>\n",
       "      <td>2021-02-15 11:58:47</td>\n",
       "      <td>Curug Malela</td>\n",
       "      <td>Kami siap mengantar dengan menggunakan Landrover</td>\n",
       "      <td>kami siap mengantar dengan menggunakan landrover</td>\n",
       "      <td>48</td>\n",
       "      <td>6</td>\n",
       "      <td>[antar, landrover]</td>\n",
       "      <td>2</td>\n",
       "    </tr>\n",
       "    <tr>\n",
       "      <th>80</th>\n",
       "      <td>99b21520cfe74ac5a7bf488dbd835994</td>\n",
       "      <td>2022-12-15 11:58:47</td>\n",
       "      <td>Curug Malela</td>\n",
       "      <td>Sangat bermakna  alam kita</td>\n",
       "      <td>sangat bermakna alam kita</td>\n",
       "      <td>25</td>\n",
       "      <td>4</td>\n",
       "      <td>[makna, alam]</td>\n",
       "      <td>2</td>\n",
       "    </tr>\n",
       "    <tr>\n",
       "      <th>86</th>\n",
       "      <td>9633aebda8c14ee5a9221c3f614ccc94</td>\n",
       "      <td>2021-02-15 11:58:48</td>\n",
       "      <td>Curug Malela</td>\n",
       "      <td>Rasa capenya bisa tergantikan🖤 …</td>\n",
       "      <td>rasa capenya bisa tergantikan</td>\n",
       "      <td>30</td>\n",
       "      <td>5</td>\n",
       "      <td>[cape, ganti]</td>\n",
       "      <td>2</td>\n",
       "    </tr>\n",
       "    <tr>\n",
       "      <th>91</th>\n",
       "      <td>bbbe2c7a216a498ab399a5ce2aba4213</td>\n",
       "      <td>2022-09-15 11:58:48</td>\n",
       "      <td>Curug Malela</td>\n",
       "      <td>Mulai banyak renov saya suka</td>\n",
       "      <td>mulai banyak renov saya suka</td>\n",
       "      <td>28</td>\n",
       "      <td>5</td>\n",
       "      <td>[renov, suka]</td>\n",
       "      <td>2</td>\n",
       "    </tr>\n",
       "    <tr>\n",
       "      <th>...</th>\n",
       "      <td>...</td>\n",
       "      <td>...</td>\n",
       "      <td>...</td>\n",
       "      <td>...</td>\n",
       "      <td>...</td>\n",
       "      <td>...</td>\n",
       "      <td>...</td>\n",
       "      <td>...</td>\n",
       "      <td>...</td>\n",
       "    </tr>\n",
       "    <tr>\n",
       "      <th>13525</th>\n",
       "      <td>0af9f3525abd4368862a3d208be8b7bc</td>\n",
       "      <td>2019-02-23 18:23:20</td>\n",
       "      <td>Terminal Wisata Grafika Cikole</td>\n",
       "      <td>Pemandangan nya bagus bangeeettt</td>\n",
       "      <td>pemandangan nya bagus banget</td>\n",
       "      <td>28</td>\n",
       "      <td>4</td>\n",
       "      <td>[pandang, bagus, banget]</td>\n",
       "      <td>3</td>\n",
       "    </tr>\n",
       "    <tr>\n",
       "      <th>13554</th>\n",
       "      <td>57d9d3c198284feda8adf766745fc86c</td>\n",
       "      <td>2022-12-23 18:23:25</td>\n",
       "      <td>Terminal Wisata Grafika Cikole</td>\n",
       "      <td>Pilihan tepat untuk liburan 👍👍👍 …</td>\n",
       "      <td>pilihan tepat untuk liburan</td>\n",
       "      <td>28</td>\n",
       "      <td>5</td>\n",
       "      <td>[pilih, libur]</td>\n",
       "      <td>2</td>\n",
       "    </tr>\n",
       "    <tr>\n",
       "      <th>13561</th>\n",
       "      <td>551121bcddf94895b3e91ad898fe5cb8</td>\n",
       "      <td>2020-02-23 18:23:26</td>\n",
       "      <td>Terminal Wisata Grafika Cikole</td>\n",
       "      <td>Mantaaapppp lah tempatnya</td>\n",
       "      <td>mantap lah tempatnya</td>\n",
       "      <td>20</td>\n",
       "      <td>3</td>\n",
       "      <td>[mantap, tempat]</td>\n",
       "      <td>2</td>\n",
       "    </tr>\n",
       "    <tr>\n",
       "      <th>13571</th>\n",
       "      <td>c229fba45de2445d910bad68c03b8ada</td>\n",
       "      <td>2021-02-23 18:23:27</td>\n",
       "      <td>Terminal Wisata Grafika Cikole</td>\n",
       "      <td>Nyaman tuk bersantai</td>\n",
       "      <td>nyaman tuk bersantai</td>\n",
       "      <td>20</td>\n",
       "      <td>3</td>\n",
       "      <td>[nyaman, tuk, santa]</td>\n",
       "      <td>3</td>\n",
       "    </tr>\n",
       "    <tr>\n",
       "      <th>13586</th>\n",
       "      <td>821d8c4e3513424bbdc395f4c32b72f5</td>\n",
       "      <td>2022-11-23 18:23:29</td>\n",
       "      <td>Terminal Wisata Grafika Cikole</td>\n",
       "      <td>Tempat dan suasananya sejuk bangeeettt....</td>\n",
       "      <td>tempat dan suasananya sejuk banget</td>\n",
       "      <td>35</td>\n",
       "      <td>6</td>\n",
       "      <td>[suasana, sejuk, banget]</td>\n",
       "      <td>3</td>\n",
       "    </tr>\n",
       "  </tbody>\n",
       "</table>\n",
       "<p>1901 rows × 9 columns</p>\n",
       "</div>"
      ],
      "text/plain": [
       "                                    _id            datetime  \\\n",
       "49     457feb4e6161474f829dd51b07af05fe 2023-01-15 11:58:46   \n",
       "79     7f59834407cf4fddaf1df89ad19086df 2021-02-15 11:58:47   \n",
       "80     99b21520cfe74ac5a7bf488dbd835994 2022-12-15 11:58:47   \n",
       "86     9633aebda8c14ee5a9221c3f614ccc94 2021-02-15 11:58:48   \n",
       "91     bbbe2c7a216a498ab399a5ce2aba4213 2022-09-15 11:58:48   \n",
       "...                                 ...                 ...   \n",
       "13525  0af9f3525abd4368862a3d208be8b7bc 2019-02-23 18:23:20   \n",
       "13554  57d9d3c198284feda8adf766745fc86c 2022-12-23 18:23:25   \n",
       "13561  551121bcddf94895b3e91ad898fe5cb8 2020-02-23 18:23:26   \n",
       "13571  c229fba45de2445d910bad68c03b8ada 2021-02-23 18:23:27   \n",
       "13586  821d8c4e3513424bbdc395f4c32b72f5 2022-11-23 18:23:29   \n",
       "\n",
       "                             location  \\\n",
       "49                       Curug Malela   \n",
       "79                       Curug Malela   \n",
       "80                       Curug Malela   \n",
       "86                       Curug Malela   \n",
       "91                       Curug Malela   \n",
       "...                               ...   \n",
       "13525  Terminal Wisata Grafika Cikole   \n",
       "13554  Terminal Wisata Grafika Cikole   \n",
       "13561  Terminal Wisata Grafika Cikole   \n",
       "13571  Terminal Wisata Grafika Cikole   \n",
       "13586  Terminal Wisata Grafika Cikole   \n",
       "\n",
       "                                                   text  \\\n",
       "49                       Niagara kecil yang tersembunyi   \n",
       "79     Kami siap mengantar dengan menggunakan Landrover   \n",
       "80                           Sangat bermakna  alam kita   \n",
       "86                     Rasa capenya bisa tergantikan🖤 …   \n",
       "91                         Mulai banyak renov saya suka   \n",
       "...                                                 ...   \n",
       "13525                  Pemandangan nya bagus bangeeettt   \n",
       "13554                 Pilihan tepat untuk liburan 👍👍👍 …   \n",
       "13561                         Mantaaapppp lah tempatnya   \n",
       "13571                              Nyaman tuk bersantai   \n",
       "13586        Tempat dan suasananya sejuk bangeeettt....   \n",
       "\n",
       "                                        text_preprocess  len_char  len_word  \\\n",
       "49                       niagara kecil yang tersembunyi        30         4   \n",
       "79     kami siap mengantar dengan menggunakan landrover        48         6   \n",
       "80                            sangat bermakna alam kita        25         4   \n",
       "86                       rasa capenya bisa tergantikan         30         5   \n",
       "91                         mulai banyak renov saya suka        28         5   \n",
       "...                                                 ...       ...       ...   \n",
       "13525                      pemandangan nya bagus banget        28         4   \n",
       "13554                      pilihan tepat untuk liburan         28         5   \n",
       "13561                              mantap lah tempatnya        20         3   \n",
       "13571                              nyaman tuk bersantai        20         3   \n",
       "13586               tempat dan suasananya sejuk banget         35         6   \n",
       "\n",
       "                         tokens  len_token  \n",
       "49          [niagara, sembunyi]          2  \n",
       "79           [antar, landrover]          2  \n",
       "80                [makna, alam]          2  \n",
       "86                [cape, ganti]          2  \n",
       "91                [renov, suka]          2  \n",
       "...                         ...        ...  \n",
       "13525  [pandang, bagus, banget]          3  \n",
       "13554            [pilih, libur]          2  \n",
       "13561          [mantap, tempat]          2  \n",
       "13571      [nyaman, tuk, santa]          3  \n",
       "13586  [suasana, sejuk, banget]          3  \n",
       "\n",
       "[1901 rows x 9 columns]"
      ]
     },
     "execution_count": 32,
     "metadata": {},
     "output_type": "execute_result"
    }
   ],
   "source": [
    "df[df['len_token'] <= 3]"
   ]
  },
  {
   "cell_type": "code",
   "execution_count": 33,
   "id": "8c88141e-5698-4791-a7a4-e0e37b20b41c",
   "metadata": {},
   "outputs": [],
   "source": [
    "df = df[df['len_token'] >= 2]"
   ]
  },
  {
   "cell_type": "code",
   "execution_count": 34,
   "id": "5cb3194e-cb76-46b9-971f-59c95e2ca9c0",
   "metadata": {},
   "outputs": [
    {
     "data": {
      "text/plain": [
       "11548"
      ]
     },
     "execution_count": 34,
     "metadata": {},
     "output_type": "execute_result"
    }
   ],
   "source": [
    "len(df)"
   ]
  },
  {
   "cell_type": "code",
   "execution_count": 35,
   "id": "83a22bad-b0e5-43f7-bf47-0d6f1840cbab",
   "metadata": {},
   "outputs": [
    {
     "ename": "TypeError",
     "evalue": "sequence item 0: expected str instance, list found",
     "output_type": "error",
     "traceback": [
      "\u001b[1;31m---------------------------------------------------------------------------\u001b[0m",
      "\u001b[1;31mTypeError\u001b[0m                                 Traceback (most recent call last)",
      "\u001b[1;32m~\\AppData\\Local\\Temp\\ipykernel_6592\\1292331250.py\u001b[0m in \u001b[0;36m<module>\u001b[1;34m\u001b[0m\n\u001b[0;32m      2\u001b[0m \u001b[1;32mfrom\u001b[0m \u001b[0mwordcloud\u001b[0m \u001b[1;32mimport\u001b[0m \u001b[0mWordCloud\u001b[0m\u001b[1;33m\u001b[0m\u001b[1;33m\u001b[0m\u001b[0m\n\u001b[0;32m      3\u001b[0m \u001b[1;31m# Join the different processed titles together.\u001b[0m\u001b[1;33m\u001b[0m\u001b[1;33m\u001b[0m\u001b[0m\n\u001b[1;32m----> 4\u001b[1;33m \u001b[0mlong_string\u001b[0m \u001b[1;33m=\u001b[0m \u001b[1;34m','\u001b[0m\u001b[1;33m.\u001b[0m\u001b[0mjoin\u001b[0m\u001b[1;33m(\u001b[0m\u001b[0mlist\u001b[0m\u001b[1;33m(\u001b[0m\u001b[0mdf\u001b[0m\u001b[1;33m[\u001b[0m\u001b[1;34m'tokens'\u001b[0m\u001b[1;33m]\u001b[0m\u001b[1;33m.\u001b[0m\u001b[0mvalues\u001b[0m\u001b[1;33m)\u001b[0m\u001b[1;33m)\u001b[0m\u001b[1;33m\u001b[0m\u001b[1;33m\u001b[0m\u001b[0m\n\u001b[0m\u001b[0;32m      5\u001b[0m \u001b[1;31m# Create a WordCloud object\u001b[0m\u001b[1;33m\u001b[0m\u001b[1;33m\u001b[0m\u001b[0m\n\u001b[0;32m      6\u001b[0m \u001b[0mwordcloud\u001b[0m \u001b[1;33m=\u001b[0m \u001b[0mWordCloud\u001b[0m\u001b[1;33m(\u001b[0m\u001b[0mbackground_color\u001b[0m\u001b[1;33m=\u001b[0m\u001b[1;34m\"white\"\u001b[0m\u001b[1;33m,\u001b[0m \u001b[0mmax_words\u001b[0m\u001b[1;33m=\u001b[0m\u001b[1;36m5000\u001b[0m\u001b[1;33m,\u001b[0m \u001b[0mcontour_width\u001b[0m\u001b[1;33m=\u001b[0m\u001b[1;36m3\u001b[0m\u001b[1;33m,\u001b[0m \u001b[0mcontour_color\u001b[0m\u001b[1;33m=\u001b[0m\u001b[1;34m'steelblue'\u001b[0m\u001b[1;33m)\u001b[0m\u001b[1;33m\u001b[0m\u001b[1;33m\u001b[0m\u001b[0m\n",
      "\u001b[1;31mTypeError\u001b[0m: sequence item 0: expected str instance, list found"
     ]
    }
   ],
   "source": [
    "# Import the wordcloud library\n",
    "from wordcloud import WordCloud\n",
    "# Join the different processed titles together.\n",
    "long_string = ','.join(list(df['tokens'].values))\n",
    "# Create a WordCloud object\n",
    "wordcloud = WordCloud(background_color=\"white\", max_words=5000, contour_width=3, contour_color='steelblue')\n",
    "# Generate a word cloud\n",
    "wordcloud.generate(long_string)\n",
    "# Visualize the word cloud\n",
    "wordcloud.to_image()"
   ]
  },
  {
   "cell_type": "markdown",
   "id": "8429678c-0971-4dbd-aceb-cbb75c3a5a3a",
   "metadata": {},
   "source": [
    "# Convert to corpus"
   ]
  },
  {
   "cell_type": "code",
   "execution_count": 36,
   "id": "66eec8ae-bb31-4259-9c85-4a2bd10ae341",
   "metadata": {},
   "outputs": [],
   "source": [
    "import gensim.corpora as corpora\n",
    "\n",
    "id2word = corpora.Dictionary(df['tokens'])\n",
    "texts = df['tokens']\n",
    "corpus = [id2word.doc2bow(text) for text in texts]"
   ]
  },
  {
   "cell_type": "code",
   "execution_count": 37,
   "id": "6a14363c-0b8a-4622-8bc0-a717c98433d9",
   "metadata": {},
   "outputs": [
    {
     "data": {
      "text/plain": [
       "[(1, 1),\n",
       " (2, 1),\n",
       " (7, 1),\n",
       " (8, 1),\n",
       " (9, 1),\n",
       " (10, 1),\n",
       " (11, 1),\n",
       " (12, 2),\n",
       " (13, 1),\n",
       " (14, 1),\n",
       " (15, 1)]"
      ]
     },
     "execution_count": 37,
     "metadata": {},
     "output_type": "execute_result"
    }
   ],
   "source": [
    "corpus[1]"
   ]
  },
  {
   "cell_type": "code",
   "execution_count": 38,
   "id": "471f7c93-c760-43fd-a55d-93f002b67b7e",
   "metadata": {},
   "outputs": [],
   "source": [
    "from gensim import models\n",
    "tfidf = models.TfidfModel(corpus)\n",
    "corpus_tfidf = tfidf[corpus]"
   ]
  },
  {
   "cell_type": "code",
   "execution_count": 39,
   "id": "9d895518-6b01-405c-9759-d828a214ff1f",
   "metadata": {},
   "outputs": [
    {
     "data": {
      "text/plain": [
       "[(1, 0.1647762302799044),\n",
       " (2, 0.09674906051156616),\n",
       " (7, 0.21189178778325604),\n",
       " (8, 0.4406563752431694),\n",
       " (9, 0.22485323640086963),\n",
       " (10, 0.2653998486625921),\n",
       " (11, 0.4622986046447371),\n",
       " (12, 0.27727230806398445),\n",
       " (13, 0.11740930653459876),\n",
       " (14, 0.2230124917380367),\n",
       " (15, 0.49929624017673535)]"
      ]
     },
     "execution_count": 39,
     "metadata": {},
     "output_type": "execute_result"
    }
   ],
   "source": [
    "corpus_tfidf[1]"
   ]
  },
  {
   "cell_type": "markdown",
   "id": "dec742a5-a944-4011-a8a6-45b9cd8d8093",
   "metadata": {},
   "source": [
    "# Apply Model"
   ]
  },
  {
   "cell_type": "code",
   "execution_count": 47,
   "id": "840e3309-e4b2-4a3f-94c3-1a09effb8c73",
   "metadata": {},
   "outputs": [
    {
     "name": "stdout",
     "output_type": "stream",
     "text": [
      "[(0,\n",
      "  '0.025*\"jalan\" + 0.013*\"bagus\" + 0.012*\"air\" + 0.012*\"curug\" + 0.011*\"masuk\" '\n",
      "  '+ 0.011*\"parkir\" + 0.009*\"lokasi\" + 0.009*\"tiket\" + 0.009*\"luas\" + '\n",
      "  '0.008*\"tempat\"'),\n",
      " (1,\n",
      "  '0.021*\"bagus\" + 0.017*\"makan\" + 0.014*\"masuk\" + 0.012*\"tiket\" + '\n",
      "  '0.012*\"jalan\" + 0.010*\"foto\" + 0.009*\"harga\" + 0.009*\"lumayan\" + '\n",
      "  '0.008*\"air\" + 0.008*\"wahana\"'),\n",
      " (2,\n",
      "  '0.018*\"bagus\" + 0.016*\"tempat\" + 0.013*\"jalan\" + 0.011*\"gunung\" + '\n",
      "  '0.010*\"indah\" + 0.010*\"masuk\" + 0.009*\"banget\" + 0.009*\"pandang\" + '\n",
      "  '0.009*\"kalo\" + 0.009*\"sejuk\"'),\n",
      " (3,\n",
      "  '0.018*\"bagus\" + 0.017*\"foto\" + 0.014*\"anak\" + 0.011*\"wisata\" + 0.011*\"spot\" '\n",
      "  '+ 0.011*\"tempat\" + 0.009*\"jalan\" + 0.009*\"alam\" + 0.008*\"masuk\" + '\n",
      "  '0.008*\"main\"'),\n",
      " (4,\n",
      "  '0.019*\"wisata\" + 0.017*\"foto\" + 0.016*\"masuk\" + 0.015*\"tiket\" + '\n",
      "  '0.012*\"jalan\" + 0.011*\"parkir\" + 0.010*\"bagus\" + 0.009*\"pandang\" + '\n",
      "  '0.009*\"keluarga\" + 0.008*\"cocok\"'),\n",
      " (5,\n",
      "  '0.020*\"bagus\" + 0.016*\"foto\" + 0.014*\"cocok\" + 0.013*\"sejuk\" + '\n",
      "  '0.012*\"indah\" + 0.012*\"udara\" + 0.012*\"tempat\" + 0.011*\"alam\" + '\n",
      "  '0.010*\"pandang\" + 0.009*\"spot\"'),\n",
      " (6,\n",
      "  '0.012*\"jalan\" + 0.011*\"parkir\" + 0.011*\"banget\" + 0.009*\"wisata\" + '\n",
      "  '0.008*\"bersih\" + 0.008*\"enak\" + 0.008*\"spot\" + 0.008*\"makan\" + 0.007*\"pas\" '\n",
      "  '+ 0.007*\"luas\"')]\n"
     ]
    }
   ],
   "source": [
    "import gensim\n",
    "from pprint import pprint\n",
    "\n",
    "num_topics = 7\n",
    "\n",
    "lda_model = gensim.models.LdaMulticore(corpus=corpus,\n",
    "                                       id2word=id2word,\n",
    "                                       num_topics=num_topics)\n",
    "\n",
    "pprint(lda_model.print_topics())\n",
    "doc_lda = lda_model[corpus]"
   ]
  },
  {
   "cell_type": "markdown",
   "id": "8b5c29f9-09ec-404d-ad8a-93bab4821035",
   "metadata": {},
   "source": [
    "# Evaluate"
   ]
  },
  {
   "cell_type": "code",
   "execution_count": 48,
   "id": "7dd4d2e3-4a68-49fc-894b-708392a7df32",
   "metadata": {},
   "outputs": [
    {
     "name": "stdout",
     "output_type": "stream",
     "text": [
      "Coherence Score:  0.5020343978431774\n"
     ]
    }
   ],
   "source": [
    "from gensim.models import CoherenceModel\n",
    "\n",
    "# Compute Coherence Score\n",
    "coherence_model_lda = CoherenceModel(model=lda_model, texts=texts, dictionary=id2word, coherence='c_v')\n",
    "coherence_lda = coherence_model_lda.get_coherence()\n",
    "print('Coherence Score: ', coherence_lda)"
   ]
  },
  {
   "cell_type": "code",
   "execution_count": 44,
   "id": "9c954025-d6c2-4ce2-bfb0-480fea3ff27e",
   "metadata": {},
   "outputs": [
    {
     "name": "stdout",
     "output_type": "stream",
     "text": [
      "\n",
      "Score: 0.7311912178993225\t \n",
      "Topic: 0.017*\"masuk\" + 0.016*\"wisata\" + 0.016*\"jalan\" + 0.015*\"tiket\" + 0.015*\"foto\" + 0.014*\"bagus\" + 0.009*\"tempat\" + 0.009*\"makan\" + 0.009*\"parkir\" + 0.008*\"spot\"\n",
      "\n",
      "Score: 0.029872620478272438\t \n",
      "Topic: 0.029*\"jalan\" + 0.020*\"bagus\" + 0.014*\"parkir\" + 0.012*\"tempat\" + 0.011*\"lumayan\" + 0.011*\"banget\" + 0.010*\"masuk\" + 0.009*\"foto\" + 0.008*\"makan\" + 0.008*\"keluarga\"\n",
      "\n",
      "Score: 0.029870187863707542\t \n",
      "Topic: 0.013*\"makan\" + 0.012*\"banget\" + 0.012*\"masuk\" + 0.010*\"enak\" + 0.009*\"bagus\" + 0.009*\"anak\" + 0.008*\"tempat\" + 0.008*\"tiket\" + 0.007*\"foto\" + 0.007*\"alam\"\n",
      "\n",
      "Score: 0.029868215322494507\t \n",
      "Topic: 0.023*\"bagus\" + 0.014*\"pandang\" + 0.013*\"wisata\" + 0.012*\"masuk\" + 0.012*\"indah\" + 0.011*\"tempat\" + 0.011*\"jalan\" + 0.011*\"harga\" + 0.010*\"banget\" + 0.010*\"anak\"\n",
      "\n",
      "Score: 0.02986811473965645\t \n",
      "Topic: 0.020*\"bagus\" + 0.014*\"foto\" + 0.011*\"jalan\" + 0.011*\"wisata\" + 0.011*\"cocok\" + 0.010*\"tempat\" + 0.009*\"masuk\" + 0.009*\"indah\" + 0.009*\"lokasi\" + 0.008*\"spot\"\n",
      "\n",
      "Score: 0.029867064207792282\t \n",
      "Topic: 0.018*\"foto\" + 0.014*\"bagus\" + 0.012*\"alam\" + 0.010*\"tempat\" + 0.010*\"jalan\" + 0.009*\"spot\" + 0.009*\"masuk\" + 0.009*\"curug\" + 0.008*\"anak\" + 0.007*\"pandang\"\n",
      "\n",
      "Score: 0.02986655756831169\t \n",
      "Topic: 0.019*\"foto\" + 0.016*\"jalan\" + 0.015*\"masuk\" + 0.012*\"spot\" + 0.011*\"tiket\" + 0.010*\"bagus\" + 0.010*\"makan\" + 0.009*\"k\" + 0.008*\"tempat\" + 0.008*\"wisata\"\n",
      "\n",
      "Score: 0.02986571379005909\t \n",
      "Topic: 0.014*\"tiket\" + 0.013*\"masuk\" + 0.011*\"air\" + 0.011*\"wisata\" + 0.009*\"bawa\" + 0.009*\"makan\" + 0.009*\"banget\" + 0.009*\"bagus\" + 0.008*\"foto\" + 0.008*\"bersih\"\n",
      "\n",
      "Score: 0.02986525185406208\t \n",
      "Topic: 0.026*\"bagus\" + 0.017*\"wisata\" + 0.012*\"tempat\" + 0.012*\"foto\" + 0.012*\"luas\" + 0.011*\"jalan\" + 0.011*\"keluarga\" + 0.010*\"lokasi\" + 0.010*\"indah\" + 0.010*\"sejuk\"\n",
      "\n",
      "Score: 0.029865026473999023\t \n",
      "Topic: 0.012*\"tiket\" + 0.011*\"makan\" + 0.011*\"masuk\" + 0.011*\"nyaman\" + 0.011*\"cocok\" + 0.010*\"air\" + 0.010*\"kalo\" + 0.008*\"anak\" + 0.008*\"bayar\" + 0.008*\"parkir\"\n"
     ]
    }
   ],
   "source": [
    "for index, score in sorted(lda_model[corpus_tfidf[0]], key=lambda tup: -1*tup[1]):\n",
    "    print(\"\\nScore: {}\\t \\nTopic: {}\".format(score, lda_model.print_topic(index, 10)))"
   ]
  },
  {
   "cell_type": "code",
   "execution_count": null,
   "id": "64c7850d-8c3f-41f6-b0dc-0b42d949d0e1",
   "metadata": {},
   "outputs": [],
   "source": [
    "df.head()"
   ]
  },
  {
   "cell_type": "code",
   "execution_count": 43,
   "id": "1630f0fd-85d8-4e39-b032-69437c71f22d",
   "metadata": {},
   "outputs": [],
   "source": [
    "df.to_excel(\"../dataset/dataset_preprocess.xlsx\", index=False)"
   ]
  },
  {
   "cell_type": "markdown",
   "id": "6b749ce9-0ce0-4d37-bd2c-758b57f378b8",
   "metadata": {},
   "source": [
    "# Result"
   ]
  },
  {
   "cell_type": "code",
   "execution_count": null,
   "id": "c1d8c818-0cbf-4a89-bfc2-9479c9b71f8c",
   "metadata": {},
   "outputs": [],
   "source": [
    "import pyLDAvis.gensim\n",
    "import pickle \n",
    "import pyLDAvis\n",
    "# Visualize the topics\n",
    "pyLDAvis.enable_notebook()\n",
    "LDAvis_data_filepath = os.path.join('./results/ldavis_prepared_'+str(num_topics))\n",
    "# # this is a bit time consuming - make the if statement True\n",
    "# # if you want to execute visualization prep yourself\n",
    "if 1 == 1:\n",
    "    LDAvis_prepared = pyLDAvis.gensim.prepare(lda_model, corpus, id2word)\n",
    "    with open(LDAvis_data_filepath, 'wb') as f:\n",
    "        pickle.dump(LDAvis_prepared, f)\n",
    "# load the pre-prepared pyLDAvis data from disk\n",
    "with open(LDAvis_data_filepath, 'rb') as f:\n",
    "    LDAvis_prepared = pickle.load(f)\n",
    "pyLDAvis.save_html(LDAvis_prepared, './results/ldavis_prepared_'+ str(num_topics) +'.html')\n",
    "LDAvis_prepared"
   ]
  },
  {
   "cell_type": "markdown",
   "id": "c0ee1a4c-6e6b-4c88-bbd1-db79b4dadb9f",
   "metadata": {
    "tags": []
   },
   "source": [
    "# Sample Text"
   ]
  },
  {
   "cell_type": "code",
   "execution_count": null,
   "id": "f866748e-5fae-4f3c-bace-706acaf55213",
   "metadata": {},
   "outputs": [],
   "source": [
    "text = \"Bagus tempatnya pada saat\""
   ]
  },
  {
   "cell_type": "code",
   "execution_count": null,
   "id": "23c35643-5f49-4d64-9761-e214b6932aee",
   "metadata": {},
   "outputs": [],
   "source": [
    "def spell(word):\n",
    "    if re.search(r'([a-zA-Z])\\1{2,}', word):\n",
    "        word = re.sub(r'([a-zA-Z])\\1{2,}','\\\\1', word)\n",
    "    return word"
   ]
  },
  {
   "cell_type": "code",
   "execution_count": null,
   "id": "3f7452c5-3d9e-4b4e-bb60-e6bc09518530",
   "metadata": {},
   "outputs": [],
   "source": [
    "text_spell = spell(text)\n",
    "text_spell"
   ]
  },
  {
   "cell_type": "code",
   "execution_count": null,
   "id": "b424e2a1-b296-49cc-a457-2e7a94dd77af",
   "metadata": {},
   "outputs": [],
   "source": [
    "df.iloc[6].text"
   ]
  },
  {
   "cell_type": "code",
   "execution_count": null,
   "id": "4fd1df0b-0515-436b-b836-ddbad722e376",
   "metadata": {},
   "outputs": [],
   "source": [
    "text = df.iloc[6].text"
   ]
  },
  {
   "cell_type": "code",
   "execution_count": null,
   "id": "601dc9bd-a80c-4457-a81a-59e0b272a48e",
   "metadata": {},
   "outputs": [],
   "source": [
    "text_preprocess = get_translate_text(text)\n",
    "text_preprocess = clean_emoji(text_preprocess)\n",
    "text_preprocess = clean_text(text_preprocess)"
   ]
  },
  {
   "cell_type": "code",
   "execution_count": null,
   "id": "b3fc4caa-c4a3-4f55-ad4f-e4dd8273acf8",
   "metadata": {},
   "outputs": [],
   "source": [
    "text_preprocess"
   ]
  },
  {
   "cell_type": "markdown",
   "id": "c870c011-78de-49e6-98d9-211dde4ac3df",
   "metadata": {
    "jp-MarkdownHeadingCollapsed": true,
    "tags": []
   },
   "source": [
    "# Text Column"
   ]
  },
  {
   "cell_type": "code",
   "execution_count": null,
   "id": "d18acb10-9dca-49f5-aa64-905d52e9e6ec",
   "metadata": {},
   "outputs": [],
   "source": [
    "df['text_preprocess'] = df['text'].apply(get_translate_text)\n",
    "df['text_preprocess'] = df['text_preprocess'].apply(clean_emoji)\n",
    "df['text_preprocess'] = df['text_preprocess'].apply(clean_text)"
   ]
  },
  {
   "cell_type": "code",
   "execution_count": null,
   "id": "35c7d832-487b-497b-b374-6ab63213200f",
   "metadata": {},
   "outputs": [],
   "source": [
    "df.iloc[15].text"
   ]
  },
  {
   "cell_type": "code",
   "execution_count": null,
   "id": "5728b023-8d94-497a-975f-d44d4e643db7",
   "metadata": {},
   "outputs": [],
   "source": [
    "df.iloc[15].text_preprocess"
   ]
  },
  {
   "cell_type": "code",
   "execution_count": null,
   "id": "26015595-c785-48f2-8fd3-eccf884319a6",
   "metadata": {},
   "outputs": [],
   "source": [
    "sample = df.loc[df['_id'] == '9d6e15357c5441078e33cf373d9b272d'].text_preprocess"
   ]
  },
  {
   "cell_type": "code",
   "execution_count": null,
   "id": "d0284edf-6508-4b78-9064-43a420b53f46",
   "metadata": {},
   "outputs": [],
   "source": [
    "print(sample)"
   ]
  },
  {
   "cell_type": "code",
   "execution_count": null,
   "id": "8e616baf-b10b-4c95-a297-1d1e068dc014",
   "metadata": {},
   "outputs": [],
   "source": []
  }
 ],
 "metadata": {
  "kernelspec": {
   "display_name": "Python 3 (ipykernel)",
   "language": "python",
   "name": "python3"
  },
  "language_info": {
   "codemirror_mode": {
    "name": "ipython",
    "version": 3
   },
   "file_extension": ".py",
   "mimetype": "text/x-python",
   "name": "python",
   "nbconvert_exporter": "python",
   "pygments_lexer": "ipython3",
   "version": "3.9.13"
  }
 },
 "nbformat": 4,
 "nbformat_minor": 5
}

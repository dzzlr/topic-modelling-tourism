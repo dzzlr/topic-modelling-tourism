{
 "cells": [
  {
   "cell_type": "code",
   "execution_count": 1,
   "id": "9fdd3c7c-ea8f-4884-9d66-646611b6717d",
   "metadata": {},
   "outputs": [
    {
     "name": "stdout",
     "output_type": "stream",
     "text": [
      "Wed Jun 21 07:18:38 2023       \n",
      "+-----------------------------------------------------------------------------+\n",
      "| NVIDIA-SMI 516.94       Driver Version: 516.94       CUDA Version: 11.7     |\n",
      "|-------------------------------+----------------------+----------------------+\n",
      "| GPU  Name            TCC/WDDM | Bus-Id        Disp.A | Volatile Uncorr. ECC |\n",
      "| Fan  Temp  Perf  Pwr:Usage/Cap|         Memory-Usage | GPU-Util  Compute M. |\n",
      "|                               |                      |               MIG M. |\n",
      "|===============================+======================+======================|\n",
      "|   0  NVIDIA GeForce ... WDDM  | 00000000:01:00.0  On |                  N/A |\n",
      "| 45%   31C    P8    N/A /  75W |    680MiB /  4096MiB |      0%      Default |\n",
      "|                               |                      |                  N/A |\n",
      "+-------------------------------+----------------------+----------------------+\n",
      "                                                                               \n",
      "+-----------------------------------------------------------------------------+\n",
      "| Processes:                                                                  |\n",
      "|  GPU   GI   CI        PID   Type   Process name                  GPU Memory |\n",
      "|        ID   ID                                                   Usage      |\n",
      "|=============================================================================|\n",
      "|    0   N/A  N/A      4204    C+G   ...root\\Office16\\WINWORD.EXE    N/A      |\n",
      "|    0   N/A  N/A      5840    C+G   C:\\Windows\\explorer.exe         N/A      |\n",
      "|    0   N/A  N/A      6540    C+G   ...artMenuExperienceHost.exe    N/A      |\n",
      "|    0   N/A  N/A      6636    C+G   ...icrosoft VS Code\\Code.exe    N/A      |\n",
      "|    0   N/A  N/A      7324    C+G   ...5n1h2txyewy\\SearchApp.exe    N/A      |\n",
      "|    0   N/A  N/A      8424    C+G   ...2txyewy\\TextInputHost.exe    N/A      |\n",
      "|    0   N/A  N/A      9336    C+G   ...ge\\Application\\msedge.exe    N/A      |\n",
      "|    0   N/A  N/A      9372    C+G   ...e\\PhoneExperienceHost.exe    N/A      |\n",
      "|    0   N/A  N/A      9564    C+G   ...3d8bbwe\\CalculatorApp.exe    N/A      |\n",
      "|    0   N/A  N/A      9952    C+G   ...8wekyb3d8bbwe\\Cortana.exe    N/A      |\n",
      "|    0   N/A  N/A     10148    C+G   ...8wekyb3d8bbwe\\GameBar.exe    N/A      |\n",
      "+-----------------------------------------------------------------------------+\n"
     ]
    }
   ],
   "source": [
    "!nvidia-smi"
   ]
  },
  {
   "cell_type": "code",
   "execution_count": 2,
   "id": "3d1d068c-31ac-40dd-b912-e6a01f8aa09f",
   "metadata": {},
   "outputs": [],
   "source": [
    "# Import Libary\n",
    "import re\n",
    "import numpy as np\n",
    "import pandas as pd\n",
    "import matplotlib.pyplot as plt\n",
    "import seaborn as sns\n",
    "from tqdm import tqdm\n",
    "\n",
    "from matplotlib.ticker import MaxNLocator\n",
    "\n",
    "import nltk\n",
    "from nltk.corpus import stopwords\n",
    "from nltk.tokenize import word_tokenize\n",
    "from Sastrawi.StopWordRemover.StopWordRemoverFactory import StopWordRemoverFactory, StopWordRemover, ArrayDictionary\n",
    "from Sastrawi.Stemmer.StemmerFactory import StemmerFactory\n",
    "\n",
    "from wordcloud import WordCloud\n",
    "\n",
    "import gensim\n",
    "from gensim import models\n",
    "from gensim.models.ldamodel import LdaModel\n",
    "from gensim.models import Phrases, CoherenceModel\n",
    "import gensim.corpora as corpora\n",
    "\n",
    "# nltk.download('punkt')\n",
    "# nltk.download('stopwords')\n",
    "# nltk.download('wordnet')\n",
    "# nltk.download('omw-1.4')"
   ]
  },
  {
   "cell_type": "markdown",
   "id": "db302b46-8957-4306-8497-a481ef7786cf",
   "metadata": {},
   "source": [
    "# Load Dataset"
   ]
  },
  {
   "cell_type": "code",
   "execution_count": 3,
   "id": "047e2b9d-f838-4a7d-8d91-00af28c59424",
   "metadata": {},
   "outputs": [],
   "source": [
    "# Load Dataset\n",
    "df = pd.read_csv(\"../dataset/gmaps_review_dataset_v2.csv\")"
   ]
  },
  {
   "cell_type": "code",
   "execution_count": 4,
   "id": "c43998f2-cdbf-448c-a69c-e1d341c2dad3",
   "metadata": {},
   "outputs": [
    {
     "data": {
      "text/html": [
       "<div>\n",
       "<style scoped>\n",
       "    .dataframe tbody tr th:only-of-type {\n",
       "        vertical-align: middle;\n",
       "    }\n",
       "\n",
       "    .dataframe tbody tr th {\n",
       "        vertical-align: top;\n",
       "    }\n",
       "\n",
       "    .dataframe thead th {\n",
       "        text-align: right;\n",
       "    }\n",
       "</style>\n",
       "<table border=\"1\" class=\"dataframe\">\n",
       "  <thead>\n",
       "    <tr style=\"text-align: right;\">\n",
       "      <th></th>\n",
       "      <th>id</th>\n",
       "      <th>PIC</th>\n",
       "      <th>datetime</th>\n",
       "      <th>status</th>\n",
       "      <th>scrapped_at</th>\n",
       "      <th>location</th>\n",
       "      <th>rating</th>\n",
       "      <th>text</th>\n",
       "      <th>aksesibilitas</th>\n",
       "      <th>fasilitas (akomodasi dan amenitas)</th>\n",
       "      <th>aktivitas (atraksi dan aktivitas)</th>\n",
       "    </tr>\n",
       "  </thead>\n",
       "  <tbody>\n",
       "    <tr>\n",
       "      <th>0</th>\n",
       "      <td>47d0cdd937754bd6b860f89b2bab1dbb</td>\n",
       "      <td>Fakhri</td>\n",
       "      <td>2022-05-15 11:58:43</td>\n",
       "      <td>Valid</td>\n",
       "      <td>2023-02-15 11:58:43</td>\n",
       "      <td>Curug Malela</td>\n",
       "      <td>4</td>\n",
       "      <td>Akses jalannya waktu itu masih sulit di jangka...</td>\n",
       "      <td>2</td>\n",
       "      <td>0</td>\n",
       "      <td>0</td>\n",
       "    </tr>\n",
       "    <tr>\n",
       "      <th>1</th>\n",
       "      <td>4804acd6c05e4f89b098e2ca35019419</td>\n",
       "      <td>Fakhri</td>\n",
       "      <td>2022-08-15 11:58:43</td>\n",
       "      <td>Valid</td>\n",
       "      <td>2023-02-15 11:58:43</td>\n",
       "      <td>Curug Malela</td>\n",
       "      <td>5</td>\n",
       "      <td>Perjalanan yg bnr\" bikin Syahduu ,, dr Tempat ...</td>\n",
       "      <td>0</td>\n",
       "      <td>0</td>\n",
       "      <td>1</td>\n",
       "    </tr>\n",
       "    <tr>\n",
       "      <th>2</th>\n",
       "      <td>3eae265bf32a45eca31765a4145bc030</td>\n",
       "      <td>Fakhri</td>\n",
       "      <td>2022-03-15 11:58:43</td>\n",
       "      <td>Valid</td>\n",
       "      <td>2023-02-15 11:58:43</td>\n",
       "      <td>Curug Malela</td>\n",
       "      <td>5</td>\n",
       "      <td>Minggu 13 februari 2022 ,\\n\\ngas santai pakai ...</td>\n",
       "      <td>1</td>\n",
       "      <td>2</td>\n",
       "      <td>1</td>\n",
       "    </tr>\n",
       "    <tr>\n",
       "      <th>3</th>\n",
       "      <td>61037dbdb7b14045be49d4494e95cf05</td>\n",
       "      <td>Fakhri</td>\n",
       "      <td>2022-05-15 11:58:44</td>\n",
       "      <td>Valid</td>\n",
       "      <td>2023-02-15 11:58:44</td>\n",
       "      <td>Curug Malela</td>\n",
       "      <td>5</td>\n",
       "      <td>7 mei 2022\\nTouring bari mudik\\nMntap perjalan...</td>\n",
       "      <td>1</td>\n",
       "      <td>0</td>\n",
       "      <td>1</td>\n",
       "    </tr>\n",
       "    <tr>\n",
       "      <th>4</th>\n",
       "      <td>a2c9e817e2b949c6880f971f43a11d2f</td>\n",
       "      <td>Fakhri</td>\n",
       "      <td>2022-08-15 11:58:44</td>\n",
       "      <td>Valid</td>\n",
       "      <td>2023-02-15 11:58:44</td>\n",
       "      <td>Curug Malela</td>\n",
       "      <td>5</td>\n",
       "      <td>Perjalanan touring motor dari bekasi melewati ...</td>\n",
       "      <td>0</td>\n",
       "      <td>0</td>\n",
       "      <td>1</td>\n",
       "    </tr>\n",
       "  </tbody>\n",
       "</table>\n",
       "</div>"
      ],
      "text/plain": [
       "                                 id     PIC             datetime status  \\\n",
       "0  47d0cdd937754bd6b860f89b2bab1dbb  Fakhri  2022-05-15 11:58:43  Valid   \n",
       "1  4804acd6c05e4f89b098e2ca35019419  Fakhri  2022-08-15 11:58:43  Valid   \n",
       "2  3eae265bf32a45eca31765a4145bc030  Fakhri  2022-03-15 11:58:43  Valid   \n",
       "3  61037dbdb7b14045be49d4494e95cf05  Fakhri  2022-05-15 11:58:44  Valid   \n",
       "4  a2c9e817e2b949c6880f971f43a11d2f  Fakhri  2022-08-15 11:58:44  Valid   \n",
       "\n",
       "           scrapped_at      location  rating  \\\n",
       "0  2023-02-15 11:58:43  Curug Malela       4   \n",
       "1  2023-02-15 11:58:43  Curug Malela       5   \n",
       "2  2023-02-15 11:58:43  Curug Malela       5   \n",
       "3  2023-02-15 11:58:44  Curug Malela       5   \n",
       "4  2023-02-15 11:58:44  Curug Malela       5   \n",
       "\n",
       "                                                text  aksesibilitas  \\\n",
       "0  Akses jalannya waktu itu masih sulit di jangka...              2   \n",
       "1  Perjalanan yg bnr\" bikin Syahduu ,, dr Tempat ...              0   \n",
       "2  Minggu 13 februari 2022 ,\\n\\ngas santai pakai ...              1   \n",
       "3  7 mei 2022\\nTouring bari mudik\\nMntap perjalan...              1   \n",
       "4  Perjalanan touring motor dari bekasi melewati ...              0   \n",
       "\n",
       "   fasilitas (akomodasi dan amenitas)  aktivitas (atraksi dan aktivitas)  \n",
       "0                                   0                                  0  \n",
       "1                                   0                                  1  \n",
       "2                                   2                                  1  \n",
       "3                                   0                                  1  \n",
       "4                                   0                                  1  "
      ]
     },
     "execution_count": 4,
     "metadata": {},
     "output_type": "execute_result"
    }
   ],
   "source": [
    "# Show first 5 rows\n",
    "df.head()"
   ]
  },
  {
   "cell_type": "code",
   "execution_count": 5,
   "id": "716e14d8-a612-45c4-abb5-e1733b8d48ce",
   "metadata": {},
   "outputs": [],
   "source": [
    "# Rename column\n",
    "df = df.rename(columns={'date status':'status'})"
   ]
  },
  {
   "cell_type": "code",
   "execution_count": 6,
   "id": "8d2e0a49-17b2-454b-83bc-e03e5a4be7e7",
   "metadata": {},
   "outputs": [],
   "source": [
    "# Drop column\n",
    "df = df.drop(columns=['PIC', 'scrapped_at', 'rating', 'aksesibilitas', 'fasilitas (akomodasi dan amenitas)', 'aktivitas (atraksi dan aktivitas)'])"
   ]
  },
  {
   "cell_type": "code",
   "execution_count": 7,
   "id": "0f06ae61-0297-4eef-8387-480ae05b2399",
   "metadata": {},
   "outputs": [
    {
     "name": "stdout",
     "output_type": "stream",
     "text": [
      "<class 'pandas.core.frame.DataFrame'>\n",
      "RangeIndex: 13587 entries, 0 to 13586\n",
      "Data columns (total 5 columns):\n",
      " #   Column    Non-Null Count  Dtype \n",
      "---  ------    --------------  ----- \n",
      " 0   id        13587 non-null  object\n",
      " 1   datetime  13587 non-null  object\n",
      " 2   status    13587 non-null  object\n",
      " 3   location  13587 non-null  object\n",
      " 4   text      13587 non-null  object\n",
      "dtypes: object(5)\n",
      "memory usage: 530.9+ KB\n"
     ]
    }
   ],
   "source": [
    "# Show lenght and type of columns\n",
    "df.info()"
   ]
  },
  {
   "cell_type": "code",
   "execution_count": 8,
   "id": "2cc5f249-237a-4dbe-8c00-4f1cab572df5",
   "metadata": {},
   "outputs": [],
   "source": [
    "# Convert column type to datetime type\n",
    "df['datetime'] = df['datetime'].apply(pd.to_datetime)"
   ]
  },
  {
   "cell_type": "markdown",
   "id": "3a23ee92-60ae-4bc0-b1b2-7a739d00b2ed",
   "metadata": {},
   "source": [
    "# Preprocessing"
   ]
  },
  {
   "cell_type": "markdown",
   "id": "81e65087-2079-48c7-84ae-80b2d553d9e6",
   "metadata": {},
   "source": [
    "## Data Filtering"
   ]
  },
  {
   "cell_type": "code",
   "execution_count": 9,
   "id": "03b2e555-ed36-451d-8845-31fb0b4e98c5",
   "metadata": {},
   "outputs": [
    {
     "name": "stdout",
     "output_type": "stream",
     "text": [
      "Length data before processing: 13587\n"
     ]
    }
   ],
   "source": [
    "print(f'Length data before processing: {len(df)}')"
   ]
  },
  {
   "cell_type": "code",
   "execution_count": 10,
   "id": "bc2ab576-e9ea-40a0-ba84-47ec9bf5054f",
   "metadata": {},
   "outputs": [],
   "source": [
    "mask = (df['datetime'] >= '2019-1-1')\n",
    "df = df.loc[mask]"
   ]
  },
  {
   "cell_type": "code",
   "execution_count": 11,
   "id": "b46b6cac-31f6-40e8-9daa-cdc3352bccb0",
   "metadata": {},
   "outputs": [],
   "source": [
    "df = df[df['location'] != 'Situ Lembang Dano']"
   ]
  },
  {
   "cell_type": "code",
   "execution_count": 12,
   "id": "ad2cb16a-04a0-49e0-af28-bcd8cdf6655b",
   "metadata": {},
   "outputs": [],
   "source": [
    "df = df[df['status'] != 'Invalid']"
   ]
  },
  {
   "cell_type": "code",
   "execution_count": 13,
   "id": "47c73add-7b82-4b40-aec9-b146332f8bd7",
   "metadata": {},
   "outputs": [],
   "source": [
    "df = df.drop_duplicates(subset=['text'])"
   ]
  },
  {
   "cell_type": "code",
   "execution_count": 14,
   "id": "288c6e6a-d0c9-4b40-aa0d-b355e0722011",
   "metadata": {},
   "outputs": [
    {
     "name": "stdout",
     "output_type": "stream",
     "text": [
      "Length data after processing: 11647\n"
     ]
    }
   ],
   "source": [
    "print(f'Length data after processing: {len(df)}')"
   ]
  },
  {
   "cell_type": "markdown",
   "id": "487553d4-12a0-4f03-985c-0c34e28aec42",
   "metadata": {},
   "source": [
    "## Data Cleaning"
   ]
  },
  {
   "cell_type": "code",
   "execution_count": 15,
   "id": "6d52bf9e-9249-4319-a3a3-b9af179b66b2",
   "metadata": {},
   "outputs": [],
   "source": [
    "def remove_destination_name(text):\n",
    "    keywords = list(map(lambda x: x.lower(), df['location'].unique()))\n",
    "    keywords += [\n",
    "        'curug tilu', 'kebun begonia', 'gunung putri', 'curug layung', \n",
    "        'curug pelangi', 'curug cimahi', 'curug sawer', 'sirtwo island',\n",
    "        'floating market', 'tangkuban parahu', 'tangkuban perahu', 'orchid forest', \n",
    "        'ciwangun indah camp', 'cic', 'kawah ratu', 'situ ciburuy', 'curug malela',\n",
    "        'kawah domas',\n",
    "    ]\n",
    "    for keyword in keywords:\n",
    "        if keyword in text:\n",
    "            text = re.sub(keyword, ' ', text)\n",
    "    return text"
   ]
  },
  {
   "cell_type": "code",
   "execution_count": 16,
   "id": "fe9b279d-069b-4848-b54f-206d4e53f7db",
   "metadata": {},
   "outputs": [],
   "source": [
    "def get_translate_text(text):\n",
    "    keyword = ['(Diterjemahkan oleh Google)', '(Asli)']\n",
    "    if keyword[0] in text and keyword[1] in text:\n",
    "        text = text[text.find(keyword[0]) + len(keyword[0]):text.rfind(keyword[1])]\n",
    "    elif keyword[0] in text and keyword[1] not in text:\n",
    "        text = text[text.find(keyword[0]) + len(keyword[0]):]\n",
    "    return text "
   ]
  },
  {
   "cell_type": "code",
   "execution_count": 17,
   "id": "743387e3-4a84-404f-bd2f-2b12c7c2f85e",
   "metadata": {},
   "outputs": [],
   "source": [
    "def clean_text(text):\n",
    "    emoji_pattern = re.compile(\"[\"\n",
    "        u\"\\U0001F600-\\U0001F64F\"  # emoticons\n",
    "        u\"\\U0001F300-\\U0001F5FF\"  # symbols & pictographs\n",
    "        u\"\\U0001F680-\\U0001F6FF\"  # transport & map symbols\n",
    "        u\"\\U0001F1E0-\\U0001F1FF\"  # flags (iOS)\n",
    "                            \"]+\", flags=re.UNICODE)\n",
    "    text = emoji_pattern.sub(r' ', text) # no emoji\n",
    "    text = text.lower() #to lowercase\n",
    "    text = re.sub('\\n', ' ', text) #remove \\n\n",
    "    text = re.sub(r'[^\\w\\s]', ' ', text) #remove punctuation\n",
    "    text = re.sub(\"\\d+\", \"\", text) #remove number\n",
    "    text = re.sub(' +', ' ', text) #remove multiple whitespace\n",
    "    \n",
    "    if re.search(r'([a-zA-Z])\\1{2,}', text): # Spell\n",
    "        text = re.sub(r'([a-zA-Z])\\1{2,}','\\\\1', text)\n",
    "        \n",
    "    return text"
   ]
  },
  {
   "cell_type": "code",
   "execution_count": 18,
   "id": "ac6afd43-7b70-4b6b-97d3-502586dce315",
   "metadata": {},
   "outputs": [],
   "source": [
    "df['text_preprocess'] = df['text'].apply(remove_destination_name)\n",
    "df['text_preprocess'] = df['text_preprocess'].apply(get_translate_text)\n",
    "df['text_preprocess'] = df['text_preprocess'].apply(clean_text)"
   ]
  },
  {
   "cell_type": "markdown",
   "id": "bcc20a84-b19c-44d2-ab7b-1779f33d0a59",
   "metadata": {},
   "source": [
    "## Tokenizing"
   ]
  },
  {
   "cell_type": "code",
   "execution_count": 19,
   "id": "e930ec1f-a355-486c-ba77-328c91565609",
   "metadata": {},
   "outputs": [],
   "source": [
    "df['tokens'] = df['text_preprocess'].apply(lambda x: word_tokenize(x))"
   ]
  },
  {
   "cell_type": "markdown",
   "id": "90b483ea-7a2c-4153-b437-ad7296be6631",
   "metadata": {},
   "source": [
    "## Stopwords removal"
   ]
  },
  {
   "cell_type": "code",
   "execution_count": 20,
   "id": "4d0534f6-1f17-4373-92ea-128f18b9af97",
   "metadata": {},
   "outputs": [],
   "source": [
    "# ''' Stopword by Sastrawi '''\n",
    "\n",
    "# stop_words = StopWordRemoverFactory().get_stop_words()\n",
    "# extend_stopword = [\n",
    "#     'pas', 'yg', 'tp', 'rb', 'km', 'tp', 'dg', 'dr',\n",
    "#     'bagu','bagus','bagusnya',\n",
    "#     'banyaknya','banyakny','banyak',\n",
    "#     'jlan','jalan',\n",
    "#     'masuk','tempat',\n",
    "#     'atas','sana','karna','sama','saya','sudah','udah','mungkin', 'tuji','jadi','saja','sini','kalo','kalau',\n",
    "#     'untuk','semua','buat','bisa','cuma','sangat','buat','unutk','paling','cukup','naik','ribu','sekali',\n",
    "#     'benar','kesini','turun','sera','sayangny','anjur','mending','dapat', 'punya','mana','sekitar',\n",
    "#     'dapet','coba','bukan','sebut','sampe','tuju','hingga','beberapa','banget',\n",
    "#     'utk','gak','adl','dll','coba','klo','nya','pas','per','bnr','udh','lua','aja','bgt','lalu','krn','mau',\n",
    "# ]\n",
    "\n",
    "# stop_words += extend_stopword"
   ]
  },
  {
   "cell_type": "code",
   "execution_count": 21,
   "id": "011f497b-b50c-41f2-9bbd-bb2780c2d158",
   "metadata": {},
   "outputs": [],
   "source": [
    "# ''' Stopword by NLTK '''\n",
    "\n",
    "# stop_words = stopwords.words('indonesian')\n",
    "# # stop_words = sorted(list(set(stopwords.words('indonesian')) - set(['jauh'])))\n",
    "# # stop_words.extend([\n",
    "# #     'pas', 'yg', 'tp', 'rb', 'km', 'tp', 'dg', 'dr', 'nya',\n",
    "# #     'bagu','bagus','bagusnya',\n",
    "# #     'banyaknya','banyakny','banyak',\n",
    "# #     'jlan','jalan',\n",
    "# #     'masuk','tempat',\n",
    "# #     'atas','sana','karna','sama','saya','sudah','udah','mungkin', 'tuji','jadi','saja','sini','kalo','kalau',\n",
    "# #     'untuk','semua','buat','bisa','cuma','sangat','buat','unutk','paling','cukup','naik','ribu','sekali',\n",
    "# #     'benar','kesini','turun','sera','sayangny','anjur','mending','dapat', 'punya','mana','sekitar',\n",
    "# #     'dapet','coba','bukan','sebut','sampe','tuju','hingga','beberapa','banget',\n",
    "# #     'utk','gak','adl','dll','coba','klo','nya','pas','per','bnr','udh','lua','aja','bgt','lalu','krn','mau',\n",
    "# # ])"
   ]
  },
  {
   "cell_type": "code",
   "execution_count": 22,
   "id": "ac1885c5-4101-40d5-96a6-9bd6f2d45b93",
   "metadata": {},
   "outputs": [],
   "source": [
    "# df['tokens'] = df['tokens'].apply(lambda x: [w for w in x if not w in stop_words])"
   ]
  },
  {
   "cell_type": "markdown",
   "id": "35013436-2e93-41b0-a692-c31918ee56ed",
   "metadata": {},
   "source": [
    "## Stemming"
   ]
  },
  {
   "cell_type": "code",
   "execution_count": 23,
   "id": "544c8f38-7567-4b5d-a206-c5458642be37",
   "metadata": {},
   "outputs": [],
   "source": [
    "# factory = StemmerFactory()\n",
    "# stemmer = factory.create_stemmer()\n",
    " \n",
    "# df['tokens'] = df['tokens'].apply(lambda x: stemmer.stem(' '.join(x)).split(' '))"
   ]
  },
  {
   "cell_type": "markdown",
   "id": "90df6dda-28b6-4b1a-9d82-d6f7e2d6d97c",
   "metadata": {},
   "source": [
    "## Additional Step"
   ]
  },
  {
   "cell_type": "code",
   "execution_count": 24,
   "id": "5ca63203-f3e6-4eb9-9c02-4d1517539eea",
   "metadata": {},
   "outputs": [],
   "source": [
    "def reduction_character_less_than_n(text):\n",
    "    new_text = []\n",
    "    char_less_than_threshold = 2\n",
    "    length_word = len(text)\n",
    "    for word_i in range(length_word):\n",
    "        if len(text[word_i]) > char_less_than_threshold:\n",
    "            new_text += [text[word_i]]\n",
    "    \n",
    "    return new_text"
   ]
  },
  {
   "cell_type": "code",
   "execution_count": 25,
   "id": "4d827f6a-2d20-43a5-a4a3-3c70f8b36d62",
   "metadata": {},
   "outputs": [],
   "source": [
    "df['tokens'] = df['tokens'].apply(reduction_character_less_than_n)"
   ]
  },
  {
   "cell_type": "code",
   "execution_count": 26,
   "id": "d58c22b5-890d-44cf-9d6d-8c2c2182d159",
   "metadata": {},
   "outputs": [],
   "source": [
    "df['len_char'] = df['text_preprocess'].apply(lambda x: len(x))\n",
    "df['len_word'] = df['text_preprocess'].apply(lambda x: len(x.split(' ')))"
   ]
  },
  {
   "cell_type": "code",
   "execution_count": 27,
   "id": "42e7549e-0415-416b-926f-aa7f0dd3fe3e",
   "metadata": {},
   "outputs": [],
   "source": [
    "df = df.drop_duplicates(subset=['text_preprocess'])"
   ]
  },
  {
   "cell_type": "code",
   "execution_count": 28,
   "id": "3cbb9570-4529-4904-bb7a-108f63c342d0",
   "metadata": {},
   "outputs": [
    {
     "data": {
      "text/plain": [
       "11555"
      ]
     },
     "execution_count": 28,
     "metadata": {},
     "output_type": "execute_result"
    }
   ],
   "source": [
    "len(df)"
   ]
  },
  {
   "cell_type": "code",
   "execution_count": 29,
   "id": "17c650f7-9a77-4f94-a548-4c6464f788d8",
   "metadata": {},
   "outputs": [],
   "source": [
    "df['len_token'] = df['tokens'].apply(lambda x: len(x))"
   ]
  },
  {
   "cell_type": "code",
   "execution_count": 30,
   "id": "81793371-d9d1-4c39-8a17-ccb2dd2f6ece",
   "metadata": {},
   "outputs": [],
   "source": [
    "df = df[df['len_token'] > 2]\n",
    "df = df[df['len_token'] <= 300]"
   ]
  },
  {
   "cell_type": "code",
   "execution_count": 31,
   "id": "eaf6787b-07fd-4c55-b0a3-664f6b09c27f",
   "metadata": {},
   "outputs": [
    {
     "name": "stdout",
     "output_type": "stream",
     "text": [
      "Length data after processing: 11064\n"
     ]
    }
   ],
   "source": [
    "print(f'Length data after processing: {len(df)}')"
   ]
  },
  {
   "cell_type": "markdown",
   "id": "8d796a45-9d71-4b13-9aed-157617e8dcda",
   "metadata": {},
   "source": [
    "# Export Dataset"
   ]
  },
  {
   "cell_type": "code",
   "execution_count": 32,
   "id": "2b729e08-d049-405b-8976-4b047374346d",
   "metadata": {},
   "outputs": [
    {
     "data": {
      "text/html": [
       "<div>\n",
       "<style scoped>\n",
       "    .dataframe tbody tr th:only-of-type {\n",
       "        vertical-align: middle;\n",
       "    }\n",
       "\n",
       "    .dataframe tbody tr th {\n",
       "        vertical-align: top;\n",
       "    }\n",
       "\n",
       "    .dataframe thead th {\n",
       "        text-align: right;\n",
       "    }\n",
       "</style>\n",
       "<table border=\"1\" class=\"dataframe\">\n",
       "  <thead>\n",
       "    <tr style=\"text-align: right;\">\n",
       "      <th></th>\n",
       "      <th>id</th>\n",
       "      <th>datetime</th>\n",
       "      <th>status</th>\n",
       "      <th>location</th>\n",
       "      <th>text</th>\n",
       "      <th>text_preprocess</th>\n",
       "      <th>tokens</th>\n",
       "      <th>len_char</th>\n",
       "      <th>len_word</th>\n",
       "      <th>len_token</th>\n",
       "    </tr>\n",
       "  </thead>\n",
       "  <tbody>\n",
       "    <tr>\n",
       "      <th>0</th>\n",
       "      <td>47d0cdd937754bd6b860f89b2bab1dbb</td>\n",
       "      <td>2022-05-15 11:58:43</td>\n",
       "      <td>Valid</td>\n",
       "      <td>Curug Malela</td>\n",
       "      <td>Akses jalannya waktu itu masih sulit di jangka...</td>\n",
       "      <td>akses jalannya waktu itu masih sulit di jangka...</td>\n",
       "      <td>[akses, jalannya, waktu, itu, masih, sulit, ja...</td>\n",
       "      <td>84</td>\n",
       "      <td>13</td>\n",
       "      <td>12</td>\n",
       "    </tr>\n",
       "    <tr>\n",
       "      <th>1</th>\n",
       "      <td>4804acd6c05e4f89b098e2ca35019419</td>\n",
       "      <td>2022-08-15 11:58:43</td>\n",
       "      <td>Valid</td>\n",
       "      <td>Curug Malela</td>\n",
       "      <td>Perjalanan yg bnr\" bikin Syahduu ,, dr Tempat ...</td>\n",
       "      <td>perjalanan yg bnr bikin syahduu dr tempat park...</td>\n",
       "      <td>[perjalanan, bnr, bikin, syahduu, tempat, park...</td>\n",
       "      <td>110</td>\n",
       "      <td>19</td>\n",
       "      <td>15</td>\n",
       "    </tr>\n",
       "    <tr>\n",
       "      <th>3</th>\n",
       "      <td>61037dbdb7b14045be49d4494e95cf05</td>\n",
       "      <td>2022-05-15 11:58:44</td>\n",
       "      <td>Valid</td>\n",
       "      <td>Curug Malela</td>\n",
       "      <td>7 mei 2022\\nTouring bari mudik\\nMntap perjalan...</td>\n",
       "      <td>mei touring bari mudik mntap perjalanan sungg...</td>\n",
       "      <td>[mei, touring, bari, mudik, mntap, perjalanan,...</td>\n",
       "      <td>162</td>\n",
       "      <td>25</td>\n",
       "      <td>20</td>\n",
       "    </tr>\n",
       "    <tr>\n",
       "      <th>4</th>\n",
       "      <td>a2c9e817e2b949c6880f971f43a11d2f</td>\n",
       "      <td>2022-08-15 11:58:44</td>\n",
       "      <td>Valid</td>\n",
       "      <td>Curug Malela</td>\n",
       "      <td>Perjalanan touring motor dari bekasi melewati ...</td>\n",
       "      <td>perjalanan touring motor dari bekasi melewati ...</td>\n",
       "      <td>[perjalanan, touring, motor, dari, bekasi, mel...</td>\n",
       "      <td>152</td>\n",
       "      <td>23</td>\n",
       "      <td>22</td>\n",
       "    </tr>\n",
       "    <tr>\n",
       "      <th>5</th>\n",
       "      <td>772bd029c2ce450b94b6fc6f524fbc05</td>\n",
       "      <td>2022-09-15 11:58:44</td>\n",
       "      <td>Valid</td>\n",
       "      <td>Curug Malela</td>\n",
       "      <td>Nyampe 17:30 lnjut kebawah jam 18:00 mantap su...</td>\n",
       "      <td>nyampe lnjut kebawah jam mantap suasana safar</td>\n",
       "      <td>[nyampe, lnjut, kebawah, jam, mantap, suasana,...</td>\n",
       "      <td>46</td>\n",
       "      <td>8</td>\n",
       "      <td>7</td>\n",
       "    </tr>\n",
       "  </tbody>\n",
       "</table>\n",
       "</div>"
      ],
      "text/plain": [
       "                                 id            datetime status      location  \\\n",
       "0  47d0cdd937754bd6b860f89b2bab1dbb 2022-05-15 11:58:43  Valid  Curug Malela   \n",
       "1  4804acd6c05e4f89b098e2ca35019419 2022-08-15 11:58:43  Valid  Curug Malela   \n",
       "3  61037dbdb7b14045be49d4494e95cf05 2022-05-15 11:58:44  Valid  Curug Malela   \n",
       "4  a2c9e817e2b949c6880f971f43a11d2f 2022-08-15 11:58:44  Valid  Curug Malela   \n",
       "5  772bd029c2ce450b94b6fc6f524fbc05 2022-09-15 11:58:44  Valid  Curug Malela   \n",
       "\n",
       "                                                text  \\\n",
       "0  Akses jalannya waktu itu masih sulit di jangka...   \n",
       "1  Perjalanan yg bnr\" bikin Syahduu ,, dr Tempat ...   \n",
       "3  7 mei 2022\\nTouring bari mudik\\nMntap perjalan...   \n",
       "4  Perjalanan touring motor dari bekasi melewati ...   \n",
       "5  Nyampe 17:30 lnjut kebawah jam 18:00 mantap su...   \n",
       "\n",
       "                                     text_preprocess  \\\n",
       "0  akses jalannya waktu itu masih sulit di jangka...   \n",
       "1  perjalanan yg bnr bikin syahduu dr tempat park...   \n",
       "3   mei touring bari mudik mntap perjalanan sungg...   \n",
       "4  perjalanan touring motor dari bekasi melewati ...   \n",
       "5     nyampe lnjut kebawah jam mantap suasana safar    \n",
       "\n",
       "                                              tokens  len_char  len_word  \\\n",
       "0  [akses, jalannya, waktu, itu, masih, sulit, ja...        84        13   \n",
       "1  [perjalanan, bnr, bikin, syahduu, tempat, park...       110        19   \n",
       "3  [mei, touring, bari, mudik, mntap, perjalanan,...       162        25   \n",
       "4  [perjalanan, touring, motor, dari, bekasi, mel...       152        23   \n",
       "5  [nyampe, lnjut, kebawah, jam, mantap, suasana,...        46         8   \n",
       "\n",
       "   len_token  \n",
       "0         12  \n",
       "1         15  \n",
       "3         20  \n",
       "4         22  \n",
       "5          7  "
      ]
     },
     "execution_count": 32,
     "metadata": {},
     "output_type": "execute_result"
    }
   ],
   "source": [
    "df.head()"
   ]
  },
  {
   "cell_type": "code",
   "execution_count": 33,
   "id": "b02564e4-5ff0-4563-ad87-021ad19c9a7a",
   "metadata": {},
   "outputs": [],
   "source": [
    "# Drop column\n",
    "df = df.drop(columns=['datetime', 'status', 'location', 'text'])"
   ]
  },
  {
   "cell_type": "code",
   "execution_count": 34,
   "id": "8b6d039a-ac91-4eb5-b836-c5bf7c53a9ea",
   "metadata": {},
   "outputs": [],
   "source": [
    "df.to_csv('../dataset/dataset_preprocess_without_stopwords_stemming.csv', index=False)"
   ]
  },
  {
   "cell_type": "code",
   "execution_count": null,
   "id": "d1dbd8f6-e7dc-4a86-b913-ef30b9084133",
   "metadata": {},
   "outputs": [],
   "source": []
  }
 ],
 "metadata": {
  "kernelspec": {
   "display_name": "Python 3 (ipykernel)",
   "language": "python",
   "name": "python3"
  },
  "language_info": {
   "codemirror_mode": {
    "name": "ipython",
    "version": 3
   },
   "file_extension": ".py",
   "mimetype": "text/x-python",
   "name": "python",
   "nbconvert_exporter": "python",
   "pygments_lexer": "ipython3",
   "version": "3.9.13"
  }
 },
 "nbformat": 4,
 "nbformat_minor": 5
}
